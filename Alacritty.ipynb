{
 "cells": [
  {
   "cell_type": "code",
   "execution_count": null,
   "id": "b51d91fb-a61d-4a1a-94c3-957e77452b96",
   "metadata": {},
   "outputs": [],
   "source": [
    "%%bash\n",
    "brew install --cask alacritty\n",
    "brew tap homebrew/cask-fonts\n",
    "brew install font-meslo-lg-nerd-font"
   ]
  },
  {
   "cell_type": "markdown",
   "id": "ca71c7ea-3fe3-4973-9ff7-02f59e6038f4",
   "metadata": {},
   "source": [
    "search for Allacritty\n",
    "\n",
    "If it is blocked go to\n",
    "\n",
    "System Settings -> Privacy & Security -> you will find Allacritty was blocked, open anyways"
   ]
  },
  {
   "cell_type": "code",
   "execution_count": null,
   "id": "61194ffe-0e50-421f-9d2e-64a727b4040c",
   "metadata": {},
   "outputs": [],
   "source": [
    "%%bash\n",
    "mkdir -p ~/.config/alacritty\n",
    "cd ~/.config/alacritty\n",
    "touch alacritty.toml"
   ]
  },
  {
   "cell_type": "markdown",
   "id": "2b5e13ab-c6a7-4140-86b2-aeaca2cafd60",
   "metadata": {},
   "source": [
    "alacritty.goml\n",
    "```\n",
    "[env]\n",
    "TERM = \"xterm-256color\"\n",
    "\n",
    "[window]\n",
    "padding.x = 10\n",
    "padding.y = 10\n",
    "\n",
    "decorations = \"Buttonless\"\n",
    "\n",
    "opacity = 0.7\n",
    "blur = true\n",
    "\n",
    "option_as_alt = \"Both\"\n",
    "\n",
    "[font]\n",
    "normal.family = \"MesloLGS Nerd Font Mono\"\n",
    "\n",
    "size = 18\n",
    "```"
   ]
  },
  {
   "cell_type": "code",
   "execution_count": null,
   "id": "9f143592-c360-4a61-abcd-32da5f940dc7",
   "metadata": {},
   "outputs": [],
   "source": [
    "%%bash\n",
    "brew install powerlevel10k"
   ]
  },
  {
   "cell_type": "code",
   "execution_count": null,
   "id": "8517a128-be6f-4204-ba47-2caef5e0fb1f",
   "metadata": {},
   "outputs": [],
   "source": [
    "%%bash\n",
    "echo \"source $(brew --prefix)/share/powerlevel10k/powerlevel10k.zsh-theme\" >> ~/.zshrc"
   ]
  },
  {
   "cell_type": "code",
   "execution_count": null,
   "id": "8734dc20-705b-4e12-b62f-86c4bea40d9d",
   "metadata": {},
   "outputs": [],
   "source": [
    "%%bash\n",
    "source ~/.zshrc"
   ]
  },
  {
   "cell_type": "code",
   "execution_count": null,
   "id": "b5c976c2-3b01-4808-a055-e33da79a63f8",
   "metadata": {},
   "outputs": [],
   "source": [
    "%%bash\n",
    "p10k configure"
   ]
  },
  {
   "cell_type": "code",
   "execution_count": null,
   "id": "f10ddd35-4653-4fac-b31f-cd0b8ce80787",
   "metadata": {},
   "outputs": [],
   "source": [
    "%%bash\n",
    "git clone https://github.com/alacritty/alacritty-theme themes"
   ]
  },
  {
   "cell_type": "code",
   "execution_count": null,
   "id": "9a81f494-343b-4502-8639-cc1100b7a6f9",
   "metadata": {},
   "outputs": [],
   "source": [
    "%%bash\n",
    "curl https://raw.githubusercontent.com/josean-dev/dev-environment-files/main/.config/alacritty/themes/themes/coolnight.toml --output ~/.config/alacritty/themes/themes/coolnight.toml"
   ]
  },
  {
   "cell_type": "markdown",
   "id": "8bd63e7e-fcda-422a-b30b-4345d0fe20b9",
   "metadata": {},
   "source": [
    "add to ~/.config/alacritty/alacritty.toml\n",
    "```\n",
    "import = [\n",
    "    \"~/.config/alacritty/themes/themes/coolnight.toml\"\n",
    "]\n",
    "```\n",
    "\n",
    "add to ~/.p10k.zsh\n",
    "```\n",
    "typeset -g POWERLEVEL9K_DIR_BACKGROUND=0\n",
    "```\n",
    "\n",
    "add to ~/.zshrc\n",
    "```\n",
    "# history setup\n",
    "HISTFILE=$HOME/.zhistory\n",
    "SAVEHIST=1000\n",
    "HISTSIZE=999\n",
    "setopt share_history\n",
    "setopt hist_expire_dups_first\n",
    "setopt hist_ignore_dups\n",
    "setopt hist_verify\n",
    "\n",
    "bindkey '^[[A' history-search-backward\n",
    "bindkey '^[[B' history-search-forward\n",
    "\n",
    "# ---- Eza (better ls) -----\n",
    "\n",
    "alias ls=\"eza --icons=always\"\n",
    "\n",
    "# ---- Zoxide (better cd) ----\n",
    "eval \"$(zoxide init zsh)\"\n",
    "\n",
    "alias cd=\"z\"\n",
    "```\n"
   ]
  },
  {
   "cell_type": "code",
   "execution_count": null,
   "id": "6824864a-c112-45fc-8842-2ca37099e634",
   "metadata": {},
   "outputs": [],
   "source": [
    "%%bash\n",
    "brew install zsh-autosuggestions\n",
    "echo \"source $(brew --prefix)/share/zsh-autosuggestions/zsh-autosuggestions.zsh\" >> ~/.zshrc\n",
    "brew install zsh-syntax-highlighting\n",
    "echo \"source $(brew --prefix)/share/zsh-syntax-highlighting/zsh-syntax-highlighting.zsh\" >> ~/.zshrc\n",
    "brew install eza\n",
    "brew install zoxide\n",
    "source ~/.zshrc"
   ]
  }
 ],
 "metadata": {
  "kernelspec": {
   "display_name": "Python 3 (ipykernel)",
   "language": "python",
   "name": "python3"
  },
  "language_info": {
   "codemirror_mode": {
    "name": "ipython",
    "version": 3
   },
   "file_extension": ".py",
   "mimetype": "text/x-python",
   "name": "python",
   "nbconvert_exporter": "python",
   "pygments_lexer": "ipython3",
   "version": "3.9.6"
  }
 },
 "nbformat": 4,
 "nbformat_minor": 5
}
