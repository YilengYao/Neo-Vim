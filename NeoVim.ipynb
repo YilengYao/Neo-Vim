{
 "cells": [
  {
   "cell_type": "markdown",
   "id": "d98841c9-c476-4774-9115-af8fd810a544",
   "metadata": {},
   "source": [
    "# Terminal Setup\n",
    "\n",
    "Install iTerm2 on mac"
   ]
  },
  {
   "cell_type": "code",
   "execution_count": null,
   "id": "3d644d93-c628-4dd5-a789-d0734898bc88",
   "metadata": {},
   "outputs": [],
   "source": [
    "%%bash\n",
    "brew install item2"
   ]
  },
  {
   "cell_type": "markdown",
   "id": "633909fb-6aa9-41cd-83a0-00d03027913f",
   "metadata": {},
   "source": [
    "Install emulator on ubuntu"
   ]
  },
  {
   "cell_type": "code",
   "execution_count": null,
   "id": "c9670998-9ebc-4a1e-a539-98a3322f0908",
   "metadata": {},
   "outputs": [],
   "source": [
    "%%bash\n",
    "sudo apt-get update\n",
    "sudo apt-get install tilix"
   ]
  },
  {
   "cell_type": "markdown",
   "id": "9ac68262-9fb4-4079-a4cd-b1599ecf9952",
   "metadata": {},
   "source": [
    "install zsh"
   ]
  },
  {
   "cell_type": "code",
   "execution_count": null,
   "id": "5c2631e9-cc6c-4a6f-a602-4d79e67862b3",
   "metadata": {},
   "outputs": [],
   "source": [
    "%%bash\n",
    "// on mac\n",
    "brew install zsh\n",
    "\n",
    "// on ubuntu\n",
    "sudo apt-get install zsh"
   ]
  },
  {
   "cell_type": "markdown",
   "id": "f3843a58-14fe-4df2-bbbe-c37b6f949303",
   "metadata": {},
   "source": [
    "Install Oh My Zsh"
   ]
  },
  {
   "cell_type": "code",
   "execution_count": null,
   "id": "6dd6886c-7cbc-495f-8e47-13bf111f7531",
   "metadata": {},
   "outputs": [],
   "source": [
    "%%bash\n",
    "sh -c \"$(curl -fsSL https://raw.githubusercontent.com/ohmyzsh/ohmyzsh/master/tools/install.sh)\""
   ]
  },
  {
   "cell_type": "markdown",
   "id": "af4672f3-c300-40fb-b2e2-cdf45e0bae5f",
   "metadata": {},
   "source": [
    "install powerlevel 10k"
   ]
  },
  {
   "cell_type": "code",
   "execution_count": null,
   "id": "38097f0f-3844-4ecd-92f0-134baf16065c",
   "metadata": {},
   "outputs": [],
   "source": [
    "%%bash\n",
    "git clone git@github.com:romkatv/powerlevel10k.git $ZSH_CUSTOM/themes/powerlevel10k"
   ]
  },
  {
   "cell_type": "markdown",
   "id": "7ee6d2ec-0f05-4d9f-8f41-f82de04fbc29",
   "metadata": {},
   "source": [
    "edit the `~/.zshrc` file\n",
    "\n",
    "by setting the `ZSH_THEME=\"powerlevel10k/powerlevel10k\"`"
   ]
  },
  {
   "cell_type": "raw",
   "id": "216b476c-252e-4129-8f00-902818fd77b4",
   "metadata": {},
   "source": [
    "# If you come from bash you might have to change your $PATH.\n",
    "# export PATH=$HOME/bin:/usr/local/bin:$PATH\n",
    "\n",
    "# Path to your oh-my-zsh installation.\n",
    "export ZSH=\"$HOME/.oh-my-zsh\"\n",
    "\n",
    "# Set name of the theme to load --- if set to \"random\", it will\n",
    "# load a random theme each time oh-my-zsh is loaded, in which case,\n",
    "# to know which specific one was loaded, run: echo $RANDOM_THEME\n",
    "# See https://github.com/ohmyzsh/ohmyzsh/wiki/Themes\n",
    "ZSH_THEME=\"powerlevel10k/powerlevel10k\"\n"
   ]
  },
  {
   "cell_type": "markdown",
   "id": "2afc3619-9c55-43b0-9fd2-feb0634eb123",
   "metadata": {},
   "source": [
    "then source the zshrc file"
   ]
  },
  {
   "cell_type": "code",
   "execution_count": null,
   "id": "5311901e-d4b1-48c8-bd2c-03b9cf283c23",
   "metadata": {},
   "outputs": [],
   "source": [
    "%%bash\n",
    "source ~/.zshrc"
   ]
  },
  {
   "cell_type": "markdown",
   "id": "faf784c6-b369-4154-8812-d5d29407e104",
   "metadata": {},
   "source": [
    "Plugins"
   ]
  },
  {
   "cell_type": "code",
   "execution_count": null,
   "id": "c4e13aa1-af8f-4f01-bf43-f80006d574f7",
   "metadata": {},
   "outputs": [],
   "source": [
    "%%bash\n",
    "# auto suggestion\n",
    "git clone git@github.com:zsh-users/zsh-autosuggestions.git ${ZSH_CUSTOM:-~/.oh-my-zsh/custom}/plugins/zsh-autosuggestions\n",
    "# syntax highlighting\n",
    "git clone git@github.com:zsh-users/zsh-syntax-highlighting.git ${ZSH_CUSTOM:-~/.oh-my-zsh/custom}/plugins/zsh-syntax-highlighting"
   ]
  },
  {
   "cell_type": "markdown",
   "id": "a8c5ae39-46ac-4916-b6b0-caa2efd067dd",
   "metadata": {},
   "source": [
    "edit the `~/.zshrc` file\n",
    "\n",
    "by adding to the plugin auto suggestion and syntax highlighting and websearch\n",
    "\n",
    "`plugins=(git zsh-autosuggestions zsh-syntax-highlighting web-search)`"
   ]
  },
  {
   "cell_type": "raw",
   "id": "ed1bd8a4-4167-427e-8562-5bf2f228efce",
   "metadata": {},
   "source": [
    "# Which plugins would you like to load?\n",
    "# Standard plugins can be found in $ZSH/plugins/\n",
    "# Custom plugins may be added to $ZSH_CUSTOM/plugins/\n",
    "# Example format: plugins=(rails git textmate ruby lighthouse)\n",
    "# Add wisely, as too many plugins slow down shell startup.\n",
    "plugins=(git zsh-autosuggestions zsh-syntax-highlighting web-search)\n",
    "\n",
    "source $ZSH/oh-my-zsh.sh"
   ]
  },
  {
   "cell_type": "markdown",
   "id": "5d4d849c-ca81-4de2-946c-466b9307e0ad",
   "metadata": {},
   "source": [
    "then source the zshrc file"
   ]
  },
  {
   "cell_type": "code",
   "execution_count": null,
   "id": "b34f2ba7-35b0-4e4c-b43f-8b7c1c5e3a91",
   "metadata": {},
   "outputs": [],
   "source": [
    "%%bash\n",
    "source ~/.zshrc"
   ]
  },
  {
   "cell_type": "markdown",
   "id": "bf9eb734-578d-4a44-9918-4b3aa31b17f5",
   "metadata": {},
   "source": [
    "You can google stuff from the browser with web search\n",
    "eg."
   ]
  },
  {
   "cell_type": "code",
   "execution_count": null,
   "id": "e8342413-0255-4745-bf7f-88349cfc764e",
   "metadata": {},
   "outputs": [],
   "source": [
    "%%bash\n",
    "google neovim"
   ]
  },
  {
   "cell_type": "markdown",
   "id": "8e27f046-7d3f-4e3e-88e5-ff2fe4f1fb29",
   "metadata": {},
   "source": [
    "# Tmux\n",
    "\n",
    "refer to https://github.com/YilengYao/Tmux"
   ]
  },
  {
   "cell_type": "markdown",
   "id": "772bd9f6-e672-433d-9a3f-ded6206050b3",
   "metadata": {
    "tags": []
   },
   "source": [
    "# Install Neo Vim\n",
    "\n",
    "on mac"
   ]
  },
  {
   "cell_type": "code",
   "execution_count": null,
   "id": "17f3aedf-8f62-4342-b74e-ecdf47e40aad",
   "metadata": {},
   "outputs": [],
   "source": [
    "%%bash\n",
    "brew install neovim"
   ]
  },
  {
   "cell_type": "markdown",
   "id": "54364d3b-4ba9-40b6-9f8f-9b504cd50273",
   "metadata": {},
   "source": [
    "on ubuntu\n",
    "\n",
    "Since the default package manage for ubuntu my have out of date neovim version, we will use Neovim's Personal Package Archive for installing a more up to date\n",
    "\n",
    "neovim version which allows us to run init.lua\n",
    "\n",
    "\n",
    "we will install using appimage https://github.com/neovim/neovim/wiki/Installing-Neovim#appimage-universal-linux-package"
   ]
  },
  {
   "cell_type": "code",
   "execution_count": null,
   "id": "56c5a1c8-6b58-4043-b001-ddb93e9b86f4",
   "metadata": {},
   "outputs": [],
   "source": [
    "%%bash\n",
    "curl -LO https://github.com/neovim/neovim/releases/latest/download/nvim.appimage\n",
    "chmod u+x nvim.appimage\n",
    "./nvim.appimage"
   ]
  },
  {
   "cell_type": "markdown",
   "id": "ce250942-7488-4b8d-9ce3-6072020b35ba",
   "metadata": {},
   "source": [
    "if `./nvim.appimage` command fails"
   ]
  },
  {
   "cell_type": "code",
   "execution_count": null,
   "id": "0b0706a0-ed4c-4c40-8096-b4394509ec3d",
   "metadata": {},
   "outputs": [],
   "source": [
    "%%bash\n",
    "./nvim.appimage --appimage-extract\n",
    "./squashfs-root/AppRun --version\n",
    "\n",
    "# Optional: exposing nvim globally.\n",
    "sudo mv squashfs-root /\n",
    "sudo ln -s /squashfs-root/AppRun /usr/bin/nvim\n",
    "# check neovim version\n",
    "nvim --version"
   ]
  },
  {
   "cell_type": "markdown",
   "id": "c68872c5-9d89-4c9c-bef1-d67ff8de5921",
   "metadata": {},
   "source": [
    "Version should be >= 0.8.0\n",
    "\n",
    "Install Python support (Optional): If you're going to use plugins that require Python, you'll need to install Python support for Neovim. You can do this with the following commands:"
   ]
  },
  {
   "cell_type": "code",
   "execution_count": null,
   "id": "a87b308c-9ba8-4e27-84ea-52d5a99c6ec7",
   "metadata": {},
   "outputs": [],
   "source": [
    "sudo apt-get install python3-neovim\n",
    "sudo apt-get install python-neovim"
   ]
  },
  {
   "cell_type": "markdown",
   "id": "41d1c6e5-4fe7-48ea-a848-7bb6b7089595",
   "metadata": {},
   "source": [
    "### Neo Vim file structure\n",
    "configs for neovim will be located in the `~/.config/nvim` folder\n",
    "\n",
    "```\n",
    " ~/.config/\n",
    " ├── nvim/\n",
    "     ├── init.lua\n",
    "     ├── lua/      \n",
    "         ├── [your name]\n",
    "             ├── core/\n",
    "             |    ├── colourscheme.lua\n",
    "             |    ├── options.lua\n",
    "             |    ├── keymaps.lua\n",
    "             ├── plugins/\n",
    "             |    ├── lualine.lua\n",
    "             |    ├── telescope.lua\n",
    "             |    ├── nvim-tree.lua\n",
    "             |    └── ....\n",
    "             └── plugins-setup.lua\n",
    "```\n",
    "\n",
    "### init.lua\n",
    "The most important file, neovim will look at it everytime it starts to load our configuration, its job will primary just to import all of our other lua files loacated in hte `lua` folder\n",
    "\n",
    "### lua folder\n",
    "inside the `lua` folder there is a folder with our name. Inside that folder there are 2 folders and a lua file\n",
    "\n",
    "- core\n",
    "- plugins\n",
    "- plugins-setup.lua\n",
    "\n",
    "#### core folder\n",
    "It will contain lua file for colorscheme, basic options and keymaps configuration.\n",
    "\n",
    "#### plugins folder\n",
    "It will contain our lualine file for configuring and setting up plugings.\n",
    "\n",
    "\n",
    "#### plugins-setup.lua\n",
    "Will be responsible for setting up our plugin manager which we will use to setup our plugins. We will use a tool called packer, it will list all the plugins we want to install."
   ]
  },
  {
   "cell_type": "markdown",
   "id": "22c726a6-890e-4e7c-84a1-c0a482dc72b7",
   "metadata": {},
   "source": [
    "## Setup neovim config\n",
    "\n",
    "make new neovim config folder"
   ]
  },
  {
   "cell_type": "code",
   "execution_count": null,
   "id": "9d91a8a5-5b39-40c4-b316-5abdff3d4315",
   "metadata": {},
   "outputs": [],
   "source": [
    "%%bash\n",
    "mkdir ~/.config/nvim"
   ]
  },
  {
   "cell_type": "markdown",
   "id": "34d74074-d59a-435e-932e-9ea4807538e7",
   "metadata": {},
   "source": [
    "create `init.lua` file"
   ]
  },
  {
   "cell_type": "code",
   "execution_count": 9,
   "id": "80bf82c2-36ee-4886-b881-e53e00124b64",
   "metadata": {},
   "outputs": [],
   "source": [
    "%%bash\n",
    "touch ~/.config/nvim/init.lua"
   ]
  },
  {
   "cell_type": "markdown",
   "id": "2b656741-2d3f-4d84-9c71-9442e3167fb5",
   "metadata": {},
   "source": [
    "make lua directory"
   ]
  },
  {
   "cell_type": "code",
   "execution_count": null,
   "id": "e26ca406-799f-4423-bb75-d1d210559b83",
   "metadata": {},
   "outputs": [],
   "source": [
    "%%bash\n",
    "mkdir ~/.config/nvim/lua"
   ]
  },
  {
   "cell_type": "markdown",
   "id": "62c44c23-83e1-4dcf-9bef-d42b1cb97350",
   "metadata": {},
   "source": [
    "create folder with our name"
   ]
  },
  {
   "cell_type": "code",
   "execution_count": 16,
   "id": "614c8ccc-db1b-4a82-8efd-451a49f41fd5",
   "metadata": {},
   "outputs": [],
   "source": [
    "%%bash\n",
    "mkdir ~/.config/nvim/lua/$USER"
   ]
  },
  {
   "cell_type": "markdown",
   "id": "4088411a-d0a8-4f7b-a802-adc972e6d0ac",
   "metadata": {},
   "source": [
    "make our core and plugins folder"
   ]
  },
  {
   "cell_type": "code",
   "execution_count": 25,
   "id": "8bffd543-f6d6-4f05-88ad-35c4a9930169",
   "metadata": {},
   "outputs": [],
   "source": [
    "%%bash\n",
    "mkdir ~/.config/nvim/lua/$USER/core\n",
    "mkdir ~/.config/nvim/lua/$USER/plugins"
   ]
  },
  {
   "cell_type": "markdown",
   "id": "4d02c30c-023a-4aeb-ae43-287d024b6794",
   "metadata": {},
   "source": [
    "make our `plugins-setup.lua` file"
   ]
  },
  {
   "cell_type": "code",
   "execution_count": 27,
   "id": "3088789b-10fb-4f64-bd6c-8c67201f595a",
   "metadata": {},
   "outputs": [],
   "source": [
    "%%bash\n",
    "touch ~/.config/nvim/lua/$USER/plugins-setup.lua"
   ]
  },
  {
   "cell_type": "markdown",
   "id": "68ce2c21-ba2c-4943-aef0-7a1b95daa881",
   "metadata": {},
   "source": [
    "in our core file create the 3 files\n",
    "- colorscheme.lua\n",
    "- options.lua\n",
    "- keymaps.lua"
   ]
  },
  {
   "cell_type": "code",
   "execution_count": 29,
   "id": "d8098e03-c40e-4e0f-9407-82661526b624",
   "metadata": {},
   "outputs": [],
   "source": [
    "%%bash\n",
    "touch ~/.config/nvim/lua/$USER/core/colorscheme.lua\n",
    "touch ~/.config/nvim/lua/$USER/core/options.lua\n",
    "touch ~/.config/nvim/lua/$USER/core/keymaps.lua"
   ]
  },
  {
   "cell_type": "markdown",
   "id": "8ebd749b-872e-4f5b-a1c3-1164ec30413b",
   "metadata": {},
   "source": [
    "now import these files in our `init.lua` file\n",
    "\n",
    "we can do this with the require statement and path to our lua files"
   ]
  },
  {
   "cell_type": "code",
   "execution_count": null,
   "id": "32c7aaa8-5ab2-46fa-8d1d-8a54439e3715",
   "metadata": {},
   "outputs": [],
   "source": [
    "require(\"{username}.plugins-setup\")\n",
    "require(\"{username}.core.options\")\n",
    "require(\"{username}.core.keymaps\")\n",
    "require(\"{username}.core.colorscheme\")                                 "
   ]
  },
  {
   "cell_type": "markdown",
   "id": "a718a2a8-cbd4-4c7f-8a91-32038bdb1296",
   "metadata": {},
   "source": [
    "lets edit our `options.lua` file\n",
    "\n",
    "in this file we have access to the vim global variable\n",
    "\n",
    "we will use vim.opt to set our option,\n",
    "\n",
    "we can save vim.opt into a local variable call opt"
   ]
  },
  {
   "cell_type": "code",
   "execution_count": null,
   "id": "05b47b8b-50ae-4dbe-9c45-8bb5c3ad64de",
   "metadata": {},
   "outputs": [],
   "source": [
    "## options.lua\n",
    "local opt = vim.opt  -- for conciseness\n",
    "\n",
    "-- line numbers\n",
    "opt.relativenumber = true\n",
    "opt.number = true\n",
    "\n",
    "-- tabs & indentation\n",
    "opt.tabstop = 2\n",
    "opt.shiftwidth = 2\n",
    "opt.expandtab = true\n",
    "opt.autoindent = true\n",
    "\n",
    "-- line wrapping\n",
    "opt.wrap = false\n",
    "\n",
    "-- search settings\n",
    "opt.ignorecase = true\n",
    "opt.smartcase = true\n",
    "\n",
    "-- cursor line\n",
    "opt.cursorline = true\n",
    "\n",
    "-- appearance\n",
    "opt.termguicolors = true\n",
    "opt.background = \"dark\"\n",
    "opt.signcolumn = \"yes\"\n",
    "\n",
    "-- backspace, makes backspace work properly\n",
    "opt.backspace = \"indent,eol,start\"\n",
    "\n",
    "-- clipboard, \n",
    "-- force neovim to use system clipboard when you paste\n",
    "-- anything with the yank operator\n",
    "opt.clipboard:append(\"unnamedplus\")\n",
    "\n",
    "\n",
    "-- split windows\n",
    "opt.splitright = true\n",
    "opt.splitbelow = true\n",
    "\n",
    "opt.iskeyword:append(\"-\")"
   ]
  },
  {
   "cell_type": "markdown",
   "id": "75c0fbf4-07a0-4542-abaf-5dd1715dc3b1",
   "metadata": {},
   "source": [
    "use `/` to search in neovim\n",
    "\n",
    "#### setup packer\n",
    "configure packer in the `plugins-setup.lua` file\n",
    "\n",
    "packer is to install plugins, copy the code from https://github.com/wbthomason/packer.nvim#bootstrapping and paste in the `plugins-setup.lua` file\n",
    "\n",
    "To install the packer plugins run `:PackerCompile`\n",
    "\n",
    "To show list of install plugins run `:PackerStatus`"
   ]
  },
  {
   "cell_type": "code",
   "execution_count": null,
   "id": "10ecad44-bee6-4c68-a5e8-3f63cab97723",
   "metadata": {},
   "outputs": [],
   "source": [
    "## plugins-setup.lua\n",
    "local ensure_packer = function()\n",
    "  local fn = vim.fn\n",
    "  local install_path = fn.stdpath(\"data\") .. \"/site/pack/packer/start/packer.nvim\"\n",
    "  if fn.empty(fn.glob(install_path)) > 0 then\n",
    "    fn.system({ \"git\", \"clone\", \"--depth\", \"1\", \"https://github.com/wbthomason/packer.nvim\", install_path })\n",
    "    vim.cmd([[packadd packer.nvim]])\n",
    "    return true\n",
    "  end\n",
    "  return false\n",
    "end\n",
    "\n",
    "local packer_bootstrap = ensure_packer() -- true if packer was just installed\n",
    "\n",
    "-- autocommand that reloads neovim and installs/updates/removes plugins\n",
    "-- when file is saved\n",
    "vim.cmd([[ \n",
    "  augroup packer_user_config\n",
    "    autocmd!\n",
    "    autocmd BufWritePost plugins-setup.lua source <afile> | PackerSync\n",
    "  augroup end\n",
    "]])\n",
    "\n",
    "\n",
    "local status, packer = pcall(require, \"packer\")\n",
    "if not status then\n",
    "  return\n",
    "end\n",
    "\n",
    "return packer.startup(function(use)\n",
    "  use(\"wbthomason/packer.nvim\")\n",
    "\n",
    "  use(\"bluz71/vim-nightfly-guicolors\") -- preferred colorscheme\n",
    "\n",
    "  if packer_bootstrap then\n",
    "    require(\"packer\").sync()\n",
    "  end\n",
    "end)\n"
   ]
  },
  {
   "cell_type": "markdown",
   "id": "605d4f00-619c-4bad-b1b8-61f2a16cf119",
   "metadata": {},
   "source": [
    "#### Configuring colorscheme\n",
    "\n",
    "do not do in ubuntu tilix does not support\n"
   ]
  },
  {
   "cell_type": "code",
   "execution_count": null,
   "id": "8c96488f-4dbc-4d0c-82a8-f8fcee81ab33",
   "metadata": {},
   "outputs": [],
   "source": [
    "# colorscheme.lua\n",
    "-- set colorscheme to nightfly with protected call\n",
    "-- in case it isn't installed\n",
    "local status, _ = pcall(vim.cmd, \"colorscheme nightfly\")\n",
    "if not status then\n",
    "  print(\"Colorscheme not found!\") -- print error if colorscheme not installed\n",
    "  return\n",
    "end"
   ]
  },
  {
   "cell_type": "markdown",
   "id": "c4f49bd6-09f0-4eb6-84df-7977d80b611e",
   "metadata": {},
   "source": [
    "#### Configuring keymaps\n",
    "\n",
    "- `vim.g.mapleader = \" \"` the leaderkey allows us to set up a bunch of different custom keyboard shortcuts/keybinds that don't clash with the vim defaults, all of the key maps we define will be prefixed with the leader ky, in this case the space key which is easy to access, the defalut leaderkey in vim is `\\` but imho space is better\n",
    "\n"
   ]
  },
  {
   "cell_type": "code",
   "execution_count": null,
   "id": "d22449be-d40c-48bd-9c3f-dad363636956",
   "metadata": {},
   "outputs": [],
   "source": [
    "# keymaps.lua\n",
    "vim.g.mapleader = \" \"\n",
    "\n",
    "local keymap = vim.keymap -- for conciseness\n",
    "\n",
    "-- general keymaps\n",
    "-- -- press j + k exits insert mode\n",
    "keymap.set(\"i\", \"jk\", \"<ESC>\")\n",
    "\n",
    "-- -- press space + n + h will clear search\n",
    "keymap.set(\"n\", \"<leader>nh\", \":nohl<CR>i\")\n",
    "\n",
    "-- -- normal mode press x key will delete single character and not copy to register\n",
    "keymap.set(\"n\", \"x\", '\"_x')\n",
    "\n",
    "keymap.set(\"n\", \"<leader>+\", \"<C-a>\") -- space + + will increment number\n",
    "keymap.set(\"n\", \"<leader>-\", \"<C-x>\") -- space + - will decrement number\n",
    "\n",
    "keymap.set(\"n\", \"<leader>sv\", \"<C-w>v\") -- split windows vertically\n",
    "keymap.set(\"n\", \"<leader>sh\", \"<C-w>s\") -- split windows horizonatally\n",
    "keymap.set(\"n\", \"<leader>se\", \"<C-w>=\") -- make split windows equal width\n",
    "keymap.set(\"n\", \"<leader>sx\", \":close<CR>\") -- close current split window\n",
    "\n",
    "keymap.set(\"n\", \"<leader>to\", \":tabnew<CR>\") -- open new tab\n",
    "keymap.set(\"n\", \"<leader>tx\", \":tabclose<CR>\") -- close current tab\n",
    "keymap.set(\"n\", \"<leader>tn\", \":tabn<CR>\") -- go to next tab\n",
    "keymap.set(\"n\", \"<leader>tp\", \":tabp<CR>\") -- go to previous tab\n"
   ]
  },
  {
   "cell_type": "code",
   "execution_count": 30,
   "id": "1d0c389f-5565-44c3-80fe-e1eab9d37187",
   "metadata": {},
   "outputs": [
    {
     "name": "stdout",
     "output_type": "stream",
     "text": [
      "/home/yilengyao/.config/nvim\n",
      "├── init.lua\n",
      "└── lua\n",
      "    └── yilengyao\n",
      "        ├── core\n",
      "        │   ├── colorscheme.lua\n",
      "        │   ├── keymaps.lua\n",
      "        │   └── options.lua\n",
      "        ├── plugins\n",
      "        └── plugins-setup.lua\n",
      "\n",
      "4 directories, 5 files\n"
     ]
    }
   ],
   "source": [
    "%%bash\n",
    "tree ~/.config/nvim"
   ]
  },
  {
   "cell_type": "code",
   "execution_count": null,
   "id": "978720b6-0e26-47ff-8332-beab825a667f",
   "metadata": {},
   "outputs": [],
   "source": []
  }
 ],
 "metadata": {
  "kernelspec": {
   "display_name": "Python 3",
   "language": "python",
   "name": "python3"
  },
  "language_info": {
   "codemirror_mode": {
    "name": "ipython",
    "version": 3
   },
   "file_extension": ".py",
   "mimetype": "text/x-python",
   "name": "python",
   "nbconvert_exporter": "python",
   "pygments_lexer": "ipython3",
   "version": "3.6.9"
  }
 },
 "nbformat": 4,
 "nbformat_minor": 5
}
