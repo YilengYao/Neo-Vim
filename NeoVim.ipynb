{
 "cells": [
  {
   "cell_type": "markdown",
   "id": "d98841c9-c476-4774-9115-af8fd810a544",
   "metadata": {},
   "source": [
    "# Terminal Setup\n",
    "\n",
    "Install iTerm2 on mac"
   ]
  },
  {
   "cell_type": "code",
   "execution_count": null,
   "id": "3d644d93-c628-4dd5-a789-d0734898bc88",
   "metadata": {},
   "outputs": [],
   "source": [
    "%%bash\n",
    "brew install item2"
   ]
  },
  {
   "cell_type": "markdown",
   "id": "633909fb-6aa9-41cd-83a0-00d03027913f",
   "metadata": {},
   "source": [
    "Install emulator on ubuntu"
   ]
  },
  {
   "cell_type": "code",
   "execution_count": null,
   "id": "c9670998-9ebc-4a1e-a539-98a3322f0908",
   "metadata": {},
   "outputs": [],
   "source": [
    "%%bash\n",
    "sudo apt-get update\n",
    "sudo apt-get install tilix"
   ]
  },
  {
   "cell_type": "markdown",
   "id": "9ac68262-9fb4-4079-a4cd-b1599ecf9952",
   "metadata": {},
   "source": [
    "install zsh"
   ]
  },
  {
   "cell_type": "code",
   "execution_count": null,
   "id": "5c2631e9-cc6c-4a6f-a602-4d79e67862b3",
   "metadata": {},
   "outputs": [],
   "source": [
    "%%bash\n",
    "// on mac\n",
    "brew install zsh\n",
    "\n",
    "// on ubuntu\n",
    "sudo apt-get install zsh"
   ]
  },
  {
   "cell_type": "markdown",
   "id": "f3843a58-14fe-4df2-bbbe-c37b6f949303",
   "metadata": {},
   "source": [
    "Install Oh My Zsh"
   ]
  },
  {
   "cell_type": "code",
   "execution_count": null,
   "id": "6dd6886c-7cbc-495f-8e47-13bf111f7531",
   "metadata": {},
   "outputs": [],
   "source": [
    "%%bash\n",
    "sh -c \"$(curl -fsSL https://raw.githubusercontent.com/ohmyzsh/ohmyzsh/master/tools/install.sh)\""
   ]
  },
  {
   "cell_type": "markdown",
   "id": "af4672f3-c300-40fb-b2e2-cdf45e0bae5f",
   "metadata": {},
   "source": [
    "install powerlevel 10k"
   ]
  },
  {
   "cell_type": "code",
   "execution_count": null,
   "id": "38097f0f-3844-4ecd-92f0-134baf16065c",
   "metadata": {},
   "outputs": [],
   "source": [
    "%%bash\n",
    "git clone git@github.com:romkatv/powerlevel10k.git $ZSH_CUSTOM/themes/powerlevel10k"
   ]
  },
  {
   "cell_type": "markdown",
   "id": "7ee6d2ec-0f05-4d9f-8f41-f82de04fbc29",
   "metadata": {},
   "source": [
    "edit the `~/.zshrc` file\n",
    "\n",
    "by setting the `ZSH_THEME=\"powerlevel10k/powerlevel10k\"`"
   ]
  },
  {
   "cell_type": "markdown",
   "id": "d09c3b81-57ed-4c63-ab22-48d3281762db",
   "metadata": {},
   "source": [
    "```\n",
    "# If you come from bash you might have to change your $PATH.\n",
    "# export PATH=$HOME/bin:/usr/local/bin:$PATH\n",
    "\n",
    "# Path to your oh-my-zsh installation.\n",
    "export ZSH=\"$HOME/.oh-my-zsh\"\n",
    "\n",
    "# Set name of the theme to load --- if set to \"random\", it will\n",
    "# load a random theme each time oh-my-zsh is loaded, in which case,\n",
    "# to know which specific one was loaded, run: echo $RANDOM_THEME\n",
    "# See https://github.com/ohmyzsh/ohmyzsh/wiki/Themes\n",
    "ZSH_THEME=\"powerlevel10k/powerlevel10k\"\n",
    "```"
   ]
  },
  {
   "cell_type": "markdown",
   "id": "2afc3619-9c55-43b0-9fd2-feb0634eb123",
   "metadata": {},
   "source": [
    "then source the zshrc file"
   ]
  },
  {
   "cell_type": "code",
   "execution_count": null,
   "id": "5311901e-d4b1-48c8-bd2c-03b9cf283c23",
   "metadata": {},
   "outputs": [],
   "source": [
    "%%bash\n",
    "source ~/.zshrc"
   ]
  },
  {
   "cell_type": "markdown",
   "id": "faf784c6-b369-4154-8812-d5d29407e104",
   "metadata": {},
   "source": [
    "Plugins"
   ]
  },
  {
   "cell_type": "code",
   "execution_count": null,
   "id": "c4e13aa1-af8f-4f01-bf43-f80006d574f7",
   "metadata": {},
   "outputs": [],
   "source": [
    "%%bash\n",
    "# auto suggestion\n",
    "git clone git@github.com:zsh-users/zsh-autosuggestions.git ${ZSH_CUSTOM:-~/.oh-my-zsh/custom}/plugins/zsh-autosuggestions\n",
    "# syntax highlighting\n",
    "git clone git@github.com:zsh-users/zsh-syntax-highlighting.git ${ZSH_CUSTOM:-~/.oh-my-zsh/custom}/plugins/zsh-syntax-highlighting"
   ]
  },
  {
   "cell_type": "markdown",
   "id": "a8c5ae39-46ac-4916-b6b0-caa2efd067dd",
   "metadata": {},
   "source": [
    "edit the `~/.zshrc` file\n",
    "\n",
    "by adding to the plugin auto suggestion and syntax highlighting and websearch\n",
    "\n",
    "`plugins=(git zsh-autosuggestions zsh-syntax-highlighting web-search)`"
   ]
  },
  {
   "cell_type": "markdown",
   "id": "1e822571-7d8a-4ed5-be06-749288fc57d1",
   "metadata": {},
   "source": [
    "```\n",
    "# Which plugins would you like to load?\n",
    "# Standard plugins can be found in $ZSH/plugins/\n",
    "# Custom plugins may be added to $ZSH_CUSTOM/plugins/\n",
    "# Example format: plugins=(rails git textmate ruby lighthouse)\n",
    "# Add wisely, as too many plugins slow down shell startup.\n",
    "plugins=(git zsh-autosuggestions zsh-syntax-highlighting web-search)\n",
    "\n",
    "source $ZSH/oh-my-zsh.sh\n",
    "```"
   ]
  },
  {
   "cell_type": "markdown",
   "id": "5d4d849c-ca81-4de2-946c-466b9307e0ad",
   "metadata": {},
   "source": [
    "then source the zshrc file"
   ]
  },
  {
   "cell_type": "code",
   "execution_count": null,
   "id": "b34f2ba7-35b0-4e4c-b43f-8b7c1c5e3a91",
   "metadata": {},
   "outputs": [],
   "source": [
    "%%bash\n",
    "source ~/.zshrc"
   ]
  },
  {
   "cell_type": "markdown",
   "id": "bf9eb734-578d-4a44-9918-4b3aa31b17f5",
   "metadata": {},
   "source": [
    "You can google stuff from the browser with web search\n",
    "eg."
   ]
  },
  {
   "cell_type": "code",
   "execution_count": null,
   "id": "e8342413-0255-4745-bf7f-88349cfc764e",
   "metadata": {},
   "outputs": [],
   "source": [
    "%%bash\n",
    "google neovim"
   ]
  },
  {
   "cell_type": "markdown",
   "id": "8e27f046-7d3f-4e3e-88e5-ff2fe4f1fb29",
   "metadata": {},
   "source": [
    "# Tmux\n",
    "\n",
    "refer to https://github.com/YilengYao/Tmux"
   ]
  },
  {
   "cell_type": "markdown",
   "id": "772bd9f6-e672-433d-9a3f-ded6206050b3",
   "metadata": {
    "tags": []
   },
   "source": [
    "# Install Neo Vim\n",
    "\n",
    "on mac"
   ]
  },
  {
   "cell_type": "code",
   "execution_count": null,
   "id": "17f3aedf-8f62-4342-b74e-ecdf47e40aad",
   "metadata": {},
   "outputs": [],
   "source": [
    "%%bash\n",
    "brew install neovim"
   ]
  },
  {
   "cell_type": "markdown",
   "id": "54364d3b-4ba9-40b6-9f8f-9b504cd50273",
   "metadata": {},
   "source": [
    "on ubuntu\n",
    "\n",
    "Since the default package manage for ubuntu my have out of date neovim version, we will use Neovim's Personal Package Archive for installing a more up to date\n",
    "\n",
    "neovim version which allows us to run init.lua\n",
    "\n",
    "\n",
    "we will install using appimage https://github.com/neovim/neovim/wiki/Installing-Neovim#appimage-universal-linux-package"
   ]
  },
  {
   "cell_type": "code",
   "execution_count": null,
   "id": "56c5a1c8-6b58-4043-b001-ddb93e9b86f4",
   "metadata": {},
   "outputs": [],
   "source": [
    "%%bash\n",
    "curl -LO https://github.com/neovim/neovim/releases/latest/download/nvim.appimage\n",
    "chmod u+x nvim.appimage\n",
    "./nvim.appimage"
   ]
  },
  {
   "cell_type": "markdown",
   "id": "ce250942-7488-4b8d-9ce3-6072020b35ba",
   "metadata": {},
   "source": [
    "if `./nvim.appimage` command fails"
   ]
  },
  {
   "cell_type": "code",
   "execution_count": null,
   "id": "0b0706a0-ed4c-4c40-8096-b4394509ec3d",
   "metadata": {},
   "outputs": [],
   "source": [
    "%%bash\n",
    "./nvim.appimage --appimage-extract\n",
    "./squashfs-root/AppRun --version\n",
    "\n",
    "# Optional: exposing nvim globally.\n",
    "sudo mv squashfs-root /\n",
    "sudo ln -s /squashfs-root/AppRun /usr/bin/nvim\n",
    "# check neovim version\n",
    "nvim --version"
   ]
  },
  {
   "cell_type": "markdown",
   "id": "c68872c5-9d89-4c9c-bef1-d67ff8de5921",
   "metadata": {},
   "source": [
    "Version should be >= 0.8.0\n",
    "\n",
    "Install Python support (Optional): If you're going to use plugins that require Python, you'll need to install Python support for Neovim. You can do this with the following commands:"
   ]
  },
  {
   "cell_type": "code",
   "execution_count": null,
   "id": "a87b308c-9ba8-4e27-84ea-52d5a99c6ec7",
   "metadata": {},
   "outputs": [],
   "source": [
    "sudo apt-get install python3-neovim\n",
    "sudo apt-get install python-neovim"
   ]
  },
  {
   "cell_type": "markdown",
   "id": "41d1c6e5-4fe7-48ea-a848-7bb6b7089595",
   "metadata": {},
   "source": [
    "### Neo Vim file structure\n",
    "configs for neovim will be located in the `~/.config/nvim` folder\n",
    "\n",
    "```\n",
    " ~/.config/\n",
    " ├── nvim/\n",
    "     ├── init.lua\n",
    "     ├── lua/      \n",
    "         ├── [your name]\n",
    "             ├── core/\n",
    "             |    ├── colourscheme.lua\n",
    "             |    ├── options.lua\n",
    "             |    ├── keymaps.lua\n",
    "             ├── plugins/\n",
    "             |    ├── lualine.lua\n",
    "             |    ├── telescope.lua\n",
    "             |    ├── nvim-tree.lua\n",
    "             |    └── ....\n",
    "             └── plugins-setup.lua\n",
    "```\n",
    "\n",
    "### init.lua\n",
    "The most important file, neovim will look at it everytime it starts to load our configuration, its job will primary just to import all of our other lua files loacated in hte `lua` folder\n",
    "\n",
    "This will be the first place that neovim looks.\n",
    "\n",
    "When you require the other lua files in init.lua, it will source these files when neovim gets opened. \n",
    "\n",
    "### lua folder\n",
    "Any director in the Lua directory is requirable by Lua\n",
    "\n",
    "inside the `lua` folder there is a folder with our name. Inside that folder there are 2 folders and a lua file\n",
    "\n",
    "- core\n",
    "- plugins\n",
    "- plugins-setup.lua\n",
    "\n",
    "#### core folder\n",
    "It will contain lua file for colorscheme, basic options and keymaps configuration.\n",
    "\n",
    "#### plugins folder\n",
    "It will contain our lualine file for configuring and setting up plugings.\n",
    "\n",
    "\n",
    "#### plugins-setup.lua\n",
    "Will be responsible for setting up our plugin manager which we will use to setup our plugins. We will use a tool called packer, it will list all the plugins we want to install."
   ]
  },
  {
   "cell_type": "markdown",
   "id": "22c726a6-890e-4e7c-84a1-c0a482dc72b7",
   "metadata": {},
   "source": [
    "## Setup neovim config\n",
    "\n",
    "make new neovim config folder"
   ]
  },
  {
   "cell_type": "code",
   "execution_count": null,
   "id": "9d91a8a5-5b39-40c4-b316-5abdff3d4315",
   "metadata": {},
   "outputs": [],
   "source": [
    "%%bash\n",
    "mkdir ~/.config/nvim"
   ]
  },
  {
   "cell_type": "markdown",
   "id": "34d74074-d59a-435e-932e-9ea4807538e7",
   "metadata": {},
   "source": [
    "create `init.lua` file"
   ]
  },
  {
   "cell_type": "code",
   "execution_count": 9,
   "id": "80bf82c2-36ee-4886-b881-e53e00124b64",
   "metadata": {},
   "outputs": [],
   "source": [
    "%%bash\n",
    "touch ~/.config/nvim/init.lua"
   ]
  },
  {
   "cell_type": "markdown",
   "id": "2b656741-2d3f-4d84-9c71-9442e3167fb5",
   "metadata": {},
   "source": [
    "make lua directory"
   ]
  },
  {
   "cell_type": "code",
   "execution_count": null,
   "id": "e26ca406-799f-4423-bb75-d1d210559b83",
   "metadata": {},
   "outputs": [],
   "source": [
    "%%bash\n",
    "mkdir ~/.config/nvim/lua"
   ]
  },
  {
   "cell_type": "markdown",
   "id": "62c44c23-83e1-4dcf-9bef-d42b1cb97350",
   "metadata": {},
   "source": [
    "create folder with our name"
   ]
  },
  {
   "cell_type": "code",
   "execution_count": 16,
   "id": "614c8ccc-db1b-4a82-8efd-451a49f41fd5",
   "metadata": {},
   "outputs": [],
   "source": [
    "%%bash\n",
    "mkdir ~/.config/nvim/lua/$USER"
   ]
  },
  {
   "cell_type": "markdown",
   "id": "4088411a-d0a8-4f7b-a802-adc972e6d0ac",
   "metadata": {},
   "source": [
    "make our core and plugins folder"
   ]
  },
  {
   "cell_type": "code",
   "execution_count": 25,
   "id": "8bffd543-f6d6-4f05-88ad-35c4a9930169",
   "metadata": {},
   "outputs": [],
   "source": [
    "%%bash\n",
    "mkdir ~/.config/nvim/lua/$USER/core\n",
    "mkdir ~/.config/nvim/lua/$USER/plugins"
   ]
  },
  {
   "cell_type": "markdown",
   "id": "4d02c30c-023a-4aeb-ae43-287d024b6794",
   "metadata": {},
   "source": [
    "make our `plugins-setup.lua` file"
   ]
  },
  {
   "cell_type": "code",
   "execution_count": 27,
   "id": "3088789b-10fb-4f64-bd6c-8c67201f595a",
   "metadata": {},
   "outputs": [],
   "source": [
    "%%bash\n",
    "touch ~/.config/nvim/lua/$USER/plugins-setup.lua"
   ]
  },
  {
   "cell_type": "markdown",
   "id": "68ce2c21-ba2c-4943-aef0-7a1b95daa881",
   "metadata": {},
   "source": [
    "in our core file create the 3 files\n",
    "- colorscheme.lua\n",
    "- options.lua\n",
    "- keymaps.lua"
   ]
  },
  {
   "cell_type": "code",
   "execution_count": 29,
   "id": "d8098e03-c40e-4e0f-9407-82661526b624",
   "metadata": {},
   "outputs": [],
   "source": [
    "%%bash\n",
    "touch ~/.config/nvim/lua/$USER/core/colorscheme.lua\n",
    "touch ~/.config/nvim/lua/$USER/core/options.lua\n",
    "touch ~/.config/nvim/lua/$USER/core/keymaps.lua"
   ]
  },
  {
   "cell_type": "markdown",
   "id": "8ebd749b-872e-4f5b-a1c3-1164ec30413b",
   "metadata": {},
   "source": [
    "now import these files in our `init.lua` file\n",
    "\n",
    "we can do this with the require statement and path to our lua files"
   ]
  },
  {
   "cell_type": "code",
   "execution_count": null,
   "id": "32c7aaa8-5ab2-46fa-8d1d-8a54439e3715",
   "metadata": {},
   "outputs": [],
   "source": [
    "local username = os.getenv(\"USER\") or os.getenv(\"USERNAME\")\n",
    "require(string.format(\"%s.plugins-setup\", username))\n",
    "require(string.format(\"%s.core.options\", username))\n",
    "require(string.format(\"%s.core.keymaps\", username))\n",
    "require(string.format(\"%s.core.colorscheme\", username))                                 "
   ]
  },
  {
   "cell_type": "markdown",
   "id": "a718a2a8-cbd4-4c7f-8a91-32038bdb1296",
   "metadata": {},
   "source": [
    "lets edit our `options.lua` file\n",
    "\n",
    "in this file we have access to the vim global variable\n",
    "\n",
    "we will use vim.opt to set our option,\n",
    "\n",
    "we can save vim.opt into a local variable call opt"
   ]
  },
  {
   "cell_type": "code",
   "execution_count": null,
   "id": "05b47b8b-50ae-4dbe-9c45-8bb5c3ad64de",
   "metadata": {},
   "outputs": [],
   "source": [
    "## options.lua\n",
    "local opt = vim.opt  -- for conciseness\n",
    "\n",
    "-- line numbers\n",
    "opt.relativenumber = true\n",
    "opt.number = true\n",
    "\n",
    "-- tabs & indentation\n",
    "opt.tabstop = 2\n",
    "opt.shiftwidth = 2\n",
    "opt.expandtab = true\n",
    "opt.autoindent = true\n",
    "\n",
    "-- line wrapping\n",
    "opt.wrap = false\n",
    "\n",
    "-- search settings\n",
    "opt.ignorecase = true\n",
    "opt.smartcase = true\n",
    "\n",
    "-- cursor line\n",
    "opt.cursorline = true\n",
    "\n",
    "-- appearance\n",
    "opt.termguicolors = true\n",
    "opt.background = \"dark\"\n",
    "opt.signcolumn = \"yes\"\n",
    "\n",
    "-- backspace, makes backspace work properly\n",
    "opt.backspace = \"indent,eol,start\"\n",
    "\n",
    "-- clipboard, \n",
    "-- force neovim to use system clipboard when you paste\n",
    "-- anything with the yank operator\n",
    "opt.clipboard:append(\"unnamedplus\")\n",
    "\n",
    "\n",
    "-- split windows\n",
    "opt.splitright = true\n",
    "opt.splitbelow = true\n",
    "\n",
    "opt.iskeyword:append(\"-\")"
   ]
  },
  {
   "cell_type": "markdown",
   "id": "75c0fbf4-07a0-4542-abaf-5dd1715dc3b1",
   "metadata": {},
   "source": [
    "use `/` to search in neovim\n",
    "\n",
    "# setup packer\n",
    "configure packer in the `plugins-setup.lua` file\n",
    "\n",
    "packer is to install plugins, copy the code from https://github.com/wbthomason/packer.nvim#bootstrapping and paste in the `plugins-setup.lua` file\n",
    "\n",
    "To install the packer plugins run `:PackerCompile`, the following code will compile on write\n",
    "\n",
    "To show list of installed plugins run `:PackerStatus`"
   ]
  },
  {
   "cell_type": "code",
   "execution_count": null,
   "id": "10ecad44-bee6-4c68-a5e8-3f63cab97723",
   "metadata": {},
   "outputs": [],
   "source": [
    "## plugins-setup.lua\n",
    "local ensure_packer = function()\n",
    "  local fn = vim.fn\n",
    "  local install_path = fn.stdpath(\"data\") .. \"/site/pack/packer/start/packer.nvim\"\n",
    "  if fn.empty(fn.glob(install_path)) > 0 then\n",
    "    fn.system({ \"git\", \"clone\", \"--depth\", \"1\", \"https://github.com/wbthomason/packer.nvim\", install_path })\n",
    "    vim.cmd([[packadd packer.nvim]])\n",
    "    return true\n",
    "  end\n",
    "  return false\n",
    "end\n",
    "\n",
    "local packer_bootstrap = ensure_packer() -- true if packer was just installed\n",
    "\n",
    "-- autocommand that reloads neovim and installs/updates/removes plugins\n",
    "-- when file is saved\n",
    "vim.cmd([[ \n",
    "  augroup packer_user_config\n",
    "    autocmd!\n",
    "    autocmd BufWritePost plugins-setup.lua source <afile> | PackerSync\n",
    "  augroup end\n",
    "]])\n",
    "\n",
    "\n",
    "local status, packer = pcall(require, \"packer\")\n",
    "if not status then\n",
    "  return\n",
    "end\n",
    "\n",
    "return packer.startup(function(use)\n",
    "  use(\"wbthomason/packer.nvim\")\n",
    "\n",
    "  use(\"bluz71/vim-nightfly-guicolors\") -- preferred colorscheme\n",
    "\n",
    "  if packer_bootstrap then\n",
    "    require(\"packer\").sync()\n",
    "  end\n",
    "end)\n"
   ]
  },
  {
   "cell_type": "markdown",
   "id": "605d4f00-619c-4bad-b1b8-61f2a16cf119",
   "metadata": {},
   "source": [
    "#### Configuring colorscheme"
   ]
  },
  {
   "cell_type": "code",
   "execution_count": null,
   "id": "8c96488f-4dbc-4d0c-82a8-f8fcee81ab33",
   "metadata": {},
   "outputs": [],
   "source": [
    "# colorscheme.lua\n",
    "-- set colorscheme to nightfly with protected call\n",
    "-- in case it isn't installed\n",
    "local status, _ = pcall(vim.cmd, \"colorscheme nightfly\")\n",
    "if not status then\n",
    "  print(\"Colorscheme not found!\") -- print error if colorscheme not installed\n",
    "  return\n",
    "end"
   ]
  },
  {
   "cell_type": "markdown",
   "id": "c4f49bd6-09f0-4eb6-84df-7977d80b611e",
   "metadata": {},
   "source": [
    "# Configuring keymaps\n",
    "\n",
    "- `vim.g.mapleader = \" \"` the leaderkey allows us to set up a bunch of different custom keyboard shortcuts/keybinds that don't clash with the vim defaults, all of the key maps we define will be prefixed with the leader ky, in this case the space key which is easy to access, the defalut leaderkey in vim is `\\` but imho space is better\n",
    "\n"
   ]
  },
  {
   "cell_type": "code",
   "execution_count": null,
   "id": "d22449be-d40c-48bd-9c3f-dad363636956",
   "metadata": {},
   "outputs": [],
   "source": [
    "# keymaps.lua\n",
    "vim.g.mapleader = \" \"\n",
    "\n",
    "local keymap = vim.keymap -- for conciseness\n",
    "\n",
    "-- general keymaps\n",
    "-- -- press j + k exits insert mode\n",
    "keymap.set(\"i\", \"jk\", \"<ESC>\")\n",
    "\n",
    "-- -- press space + / will clear search\n",
    "keymap.set(\"n\", \"<leader>/\", \":nohl<CR>i\")\n",
    "\n",
    "-- -- normal mode press x key will delete single character and not copy to register\n",
    "keymap.set(\"n\", \"x\", '\"_x')\n",
    "\n",
    "keymap.set(\"n\", \"<leader>+\", \"<C-a>\") -- space + + will increment number\n",
    "keymap.set(\"n\", \"<leader>-\", \"<C-x>\") -- space + - will decrement number\n",
    "\n",
    "keymap.set(\"n\", \"<leader>sv\", \"<C-w>v\") -- split windows vertically\n",
    "keymap.set(\"n\", \"<leader>sh\", \"<C-w>s\") -- split windows horizonatally\n",
    "keymap.set(\"n\", \"<leader>se\", \"<C-w>=\") -- make split windows equal width\n",
    "keymap.set(\"n\", \"<leader>sx\", \":close<CR>\") -- close current split window\n",
    "\n",
    "keymap.set(\"n\", \"<leader>to\", \":tabnew<CR>\") -- open new tab\n",
    "keymap.set(\"n\", \"<leader>tx\", \":tabclose<CR>\") -- close current tab\n",
    "keymap.set(\"n\", \"<leader>tn\", \":tabn<CR>\") -- go to next tab\n",
    "keymap.set(\"n\", \"<leader>tp\", \":tabp<CR>\") -- go to previous tab"
   ]
  },
  {
   "cell_type": "markdown",
   "id": "14ed72d0-507a-4a49-ab03-d20687fae8c4",
   "metadata": {},
   "source": [
    "keymap.set(`vim mode`,`keymap`,`command`)\n",
    "```\n",
    "keymap.set(\"n\", \"\"<leader>sv\", \"<C-w>v\")\n",
    "```\n",
    "so this means, while in normal mode, if I press the following key \"space + sv\" it will execute the command \"control + w + v\" which splits the windows vertically."
   ]
  },
  {
   "cell_type": "markdown",
   "id": "cc4e5503-bb45-4c98-9484-f5d20477759d",
   "metadata": {},
   "source": [
    "# Plugins"
   ]
  },
  {
   "cell_type": "markdown",
   "id": "9e51cb85-ecd6-400d-bdd3-0bda217a568e",
   "metadata": {},
   "source": [
    "## Vim Surround"
   ]
  },
  {
   "cell_type": "markdown",
   "id": "2cef5ed2-981c-4f16-8666-d87478239be3",
   "metadata": {},
   "source": [
    "## Replace With Register"
   ]
  },
  {
   "cell_type": "markdown",
   "id": "1bc431c1-0de2-4203-9745-1b2c0c6a3b62",
   "metadata": {},
   "source": [
    "## Comments\n",
    "\n",
    "Creates comments.\n",
    "\n",
    "create the lua file `~/.config/nvim/lua/$USERNAME/plugins/comment.lua`"
   ]
  },
  {
   "cell_type": "code",
   "execution_count": 34,
   "id": "5bf95e7a-674f-429f-bd45-86a024d2e6cd",
   "metadata": {},
   "outputs": [],
   "source": [
    "%%bash\n",
    "touch ~/.config/nvim/lua/$USERNAME/plugins/comment.lua"
   ]
  },
  {
   "cell_type": "markdown",
   "id": "da042e99-17cd-429e-9849-c4bdee6e5c8e",
   "metadata": {},
   "source": [
    "lets edit `comment.lua` file"
   ]
  },
  {
   "cell_type": "code",
   "execution_count": null,
   "id": "e27d98f8-d53a-4b93-a505-15dcc9f7fa4c",
   "metadata": {},
   "outputs": [],
   "source": [
    "# comment.lua \n",
    "-- import comment plugin safely\n",
    "local setup, comment = pcall(require, \"Comment\")\n",
    "if not setup then\n",
    "  print(\"Comment plugin is not installed\")\n",
    "  return\n",
    "end\n",
    "\n",
    "-- enable comment\n",
    "comment.setup()"
   ]
  },
  {
   "cell_type": "markdown",
   "id": "09ad6c9a-9563-4f1a-b0b0-a44dfee41700",
   "metadata": {},
   "source": [
    "require this in `init.lua`"
   ]
  },
  {
   "cell_type": "code",
   "execution_count": null,
   "id": "80ac9ecf-95f3-48c2-8fcf-dc4ff9162f7b",
   "metadata": {},
   "outputs": [],
   "source": [
    "# init.lua\n",
    "require(string.format(\"%s.plugins.comment\", username))"
   ]
  },
  {
   "cell_type": "markdown",
   "id": "db6a7dbe-bead-4045-b55e-46ed54b04ad4",
   "metadata": {},
   "source": [
    "## Nvim Tree\n",
    "neovim file explorer, which we can access with `:NvimTreeToggle` in normal mode\n",
    "\n",
    "we will edit keymap so we can call `:NvimTreeToggle` to open nvim tree with `space + e`\n",
    "\n",
    "once we are in nvim tree to create a new file press `a`\n",
    "\n",
    "create the lua file `~/.config/nvim/lua/$USERNAME/plugins/nvim-tree.lua`"
   ]
  },
  {
   "cell_type": "code",
   "execution_count": 36,
   "id": "9c2667b4-efb7-405c-a272-3901a0a4be25",
   "metadata": {
    "tags": []
   },
   "outputs": [],
   "source": [
    "%%bash\n",
    "touch ~/.config/nvim/lua/$USERNAME/plugins/nvim-tree.lua"
   ]
  },
  {
   "cell_type": "markdown",
   "id": "2df3cdf5-6c69-4f13-9257-87ab439b769e",
   "metadata": {},
   "source": [
    "lets edit `nvim-tree.lua` file"
   ]
  },
  {
   "cell_type": "code",
   "execution_count": null,
   "id": "93530fdf-33f0-4d02-99a6-7d18d13ee8c4",
   "metadata": {},
   "outputs": [],
   "source": [
    "# nvim-tree.lua\n",
    "local setup, nvimtree = pcall(require, \"nvim-tree\")\n",
    "if not setup then\n",
    "  return\n",
    "end\n",
    "\n",
    "-- recommended settings from nvim-tree documentation\n",
    "vim.g.loaded = 1\n",
    "vim.g.loaded_netrwPlugin = 1\n",
    "\n",
    "-- change color for arrows in tree to light blue\n",
    "vim.cmd([[ highlight NvimTreeIndentMarker guifg=#3FC5FF ]])\n",
    "\n",
    "-- configure nvim-tree\n",
    "nvimtree.setup({\n",
    "  -- change folder arrow icons\n",
    "  renderer = {\n",
    "    icons = {\n",
    "      glyphs = {\n",
    "        folder = {\n",
    "          arrow_closed = \"➜\", -- arrow when folder is closed\n",
    "          arrow_open = \"↓\", -- arrow when folder is open\n",
    "          default = \"📁\",\n",
    "          open = \"📂\",\n",
    "          empty = \" \",\n",
    "        },\n",
    "      },\n",
    "    },\n",
    "  },\n",
    "  -- disable window_picker for\n",
    "  -- explorer to work well with\n",
    "  -- window splits\n",
    "  actions = {\n",
    "    open_file = {\n",
    "      window_picker = {\n",
    "        enable = false,\n",
    "      },\n",
    "    },\n",
    "  }\n",
    "})\n"
   ]
  },
  {
   "cell_type": "markdown",
   "id": "bd53584d-9b16-45af-b73b-806490d2eb24",
   "metadata": {},
   "source": [
    "require this in `init.lua`"
   ]
  },
  {
   "cell_type": "code",
   "execution_count": null,
   "id": "6c85ba76-5a60-4704-aa22-6e78790d0dfc",
   "metadata": {},
   "outputs": [],
   "source": [
    "# init.lua\n",
    "require(string.format(\"%s.plugins.nvim-tree\", username))"
   ]
  },
  {
   "cell_type": "markdown",
   "id": "03782b2f-b9ab-40c7-8f42-fc70d8fcac2f",
   "metadata": {},
   "source": [
    "shortcuts, add this to keymaps.lua so we can open nvim tree with `space + e`"
   ]
  },
  {
   "cell_type": "code",
   "execution_count": null,
   "id": "f47d9d55-a5a3-43df-879d-6f0c0b8f3984",
   "metadata": {},
   "outputs": [],
   "source": [
    "# keymaps.lua\n",
    "keymap.set(\"n\", \"<leader>e\", \":NvimTreeToggle<CR>\") -- space + e opens up the nvim tree explorer"
   ]
  },
  {
   "cell_type": "markdown",
   "id": "5c2d762c-b80d-47be-b8c9-3e00a847fed7",
   "metadata": {},
   "source": [
    "## Telescope\n",
    "Its a fuzzy finder that makes it easy to find files and text throughout your project \n",
    "\n",
    "add this to `plugins-setup.lua`\n",
    "```\n",
    "  -- fuzzy finding w telescope\n",
    "  use({\"nvim-telescope/telescope-fzf-native.nvim\", run = \"make\"}) -- dependency for getter sorting performance\n",
    "  use({\"nvim-telescope/telescope.nvim\", branch - \"0.1.x\"}) -- fuzzy finder\n",
    "```\n",
    "\n",
    "create the lua file `~/.config/nvim/lua/$USERNAME/plugins/telescope.lua`"
   ]
  },
  {
   "cell_type": "code",
   "execution_count": 38,
   "id": "14406617-2c90-4e4b-a1c1-214e22377737",
   "metadata": {},
   "outputs": [],
   "source": [
    "%%bash\n",
    "touch ~/.config/nvim/lua/$USERNAME/plugins/telescope.lua"
   ]
  },
  {
   "cell_type": "code",
   "execution_count": null,
   "id": "11c84615-93d7-438d-9a7c-384f0bb86404",
   "metadata": {},
   "outputs": [],
   "source": [
    "# telescope.lua\n",
    "-- import telescope plugin safely\n",
    "local telescope_setup, telescope = pcall(require, \"telesope\")\n",
    "if not telescope_setup then\n",
    "  return\n",
    "end\n",
    "\n",
    "-- import telescope acions safely\n",
    "local actions_setup, actions = pcall(require, \"telescope.actions\")\n",
    "if not actions_setup, then\n",
    "  return\n",
    "end\n",
    "\n",
    "-- configure telescope\n",
    "telescope.setup({\n",
    "  -- configure custome mappings\n",
    "  defaults = {\n",
    "    mappings = {\n",
    "      i = {\n",
    "        [\"<C-p>\"] = actions.move_selection_previous, -- Ctrl + p to move to previous result\n",
    "        [\"<C-n>\"] = actions.move_selection_next, -- Ctrl + n to move to next result\n",
    "        [\"<C-q>\"] = actions.send_selected_to_qflist + actions.open_qflist, -- Ctrl + q send selected to quickfixlist\n",
    "      }\n",
    "    }\n",
    "  }\n",
    "})\n",
    "\n",
    "telescope.load_extension(\"fzf\")\n"
   ]
  },
  {
   "cell_type": "markdown",
   "id": "41653af7-512f-484e-a7d7-6ce64fe90402",
   "metadata": {},
   "source": [
    "add the following keybindings to keymaps.lua"
   ]
  },
  {
   "cell_type": "code",
   "execution_count": null,
   "id": "da54d92f-2c90-4b54-b5de-5ab234f33fcc",
   "metadata": {},
   "outputs": [],
   "source": [
    "# keymaps.lua\n",
    "-- telescope\n",
    "keymap.set(\"n\", \"<leader>ff\", \"<cmd>Telescope find_files<cr>\") -- find files within current working directory, respects .gitignore\n",
    "keymap.set(\"n\", \"<leader>fs\", \"<cmd>Telescope live_grep<cr>\") -- find string in current working directory as you type\n",
    "keymap.set(\"n\", \"<leader>fc\", \"<cmd>Telescope grep_string<cr>\") -- find string under cursor in current working directory\n",
    "keymap.set(\"n\", \"<leader>fb\", \"<cmd>Telescope buffers<cr>\") -- list open buffers in current neovim instance\n",
    "keymap.set(\"n\", \"<leader>fh\", \"<cmd>Telescope help_tags<cr>\") -- list available help tags\n",
    "\n",
    "-- telescope git commands\n",
    "keymap.set(\"n\", \"<leader>gff\", \"<cmd>Telescope git_files<cr>\") -- find files with in git directory\n",
    "keymap.set(\"n\", \"<leader>gc\", \"<cmd>Telescope git_commits<cr>\") -- list all git commits (use <cr> to checkout) [\"gc\" for git commits]\n",
    "keymap.set(\"n\", \"<leader>gfc\", \"<cmd>Telescope git_bcommits<cr>\") -- list git commit for current file/buffer (use <cr> to checkout) [\"gfc\" for git file commits]\n",
    "keymap.set(\"n\", \"<leader>gb\", \"<cmd>Telescope git_branches<cr>\") -- list git branches (use <cr> to checkout) [\"gb\" for git branch]\n",
    "keymap.set(\"n\", \"<leader>gs\", \"<cmd>Telescope git_status<cr>\") -- list current changes per file of diff preview [\"gs\" for git status]\n"
   ]
  },
  {
   "cell_type": "markdown",
   "id": "2adebc45-b88b-4ee0-84d1-b863beb10f78",
   "metadata": {},
   "source": [
    "add this to `init.lua`\n",
    "\n",
    "```\n",
    "require(string.format(\"%s.plugins.telescope\", username))\n",
    "\n",
    "```"
   ]
  },
  {
   "cell_type": "markdown",
   "id": "1fa03fd2-3fb4-4be8-ab65-23238976da6b",
   "metadata": {},
   "source": [
    "#### Troubleshoot\n",
    "when find files is working but live grep is not workings.\n",
    "\n",
    "trouble shoot by entering `:checkhealth telescope` in normal mode\n",
    "\n",
    "```\n",
    "==============================================================================\n",
    "telescope: require(\"telescope.health\").check()\n",
    "\n",
    "Checking for required plugins ~\n",
    "- OK plenary installed.\n",
    "- WARNING nvim-treesitter not found. \n",
    "\n",
    "Checking external dependencies ~\n",
    "- ERROR rg: not found. `live-grep` finder will not function without [BurntSushi/ripgrep](https://github.com/BurntSushi/ripgrep) installed.\n",
    "- WARNING fd: not found. Install [sharkdp/fd](https://github.com/sharkdp/fd) for extended capabilities\n",
    "\n",
    "===== Installed extensions =====\n",
    "\n",
    "```\n",
    "so we need to install ripgrep and shardfd you need to run the following\n",
    "\n",
    "to install on ubuntu"
   ]
  },
  {
   "cell_type": "code",
   "execution_count": null,
   "id": "888cc2a1-5fae-476c-9ec0-8f5d71135bf9",
   "metadata": {},
   "outputs": [],
   "source": [
    "%%bash\n",
    "curl -LO https://github.com/BurntSushi/ripgrep/releases/download/13.0.0/ripgrep_13.0.0_amd64.deb\n",
    "sudo dpkg -i ripgrep_13.0.0_amd64.deb\n",
    "\n",
    "curl -LO https://github.com/sharkdp/fd/releases/download/v8.7.0/fd_8.7.0_amd64.deb\n",
    "sudo dpkg -i fd_8.7.0_amd64.deb"
   ]
  },
  {
   "cell_type": "markdown",
   "id": "7a01af24-1f6b-4f04-9f8b-709f6a53b595",
   "metadata": {
    "tags": []
   },
   "source": [
    "## Autocompletion\n",
    "add this to `plugins-setup.lua`\n",
    "\n",
    "```\n",
    "  -- autocompletion\n",
    "  use(\"hrsh7th/nvim-cmp\") -- completion plugin\n",
    "  use(\"hrsh7th/cmp-buffer\") -- source for text in buffer\n",
    "  use(\"hrsh7th/cmp-path\") -- source for file system paths\n",
    "\n",
    "  -- snippets\n",
    "  use(\"L3MON4D3/LuaSnip\") -- snippet engine\n",
    "  use(\"saadparwaiz1/cmp_luasnip\") -- for autocompletion\n",
    "  use(\"rafamadriz/friendly-snippets\") -- useful snippets\n",
    "\n",
    "  -- managing & installing lsp servers, linters & formatters,  lsp server with :Mason\n",
    "  use(\"williamboman/mason.nvim\") -- in charge of managing lsp servers, linters & formatters\n",
    "  use(\"williamboman/mason-lspconfig.nvim\") -- bridges gap b/w mason & lspconfig\n",
    "\n",
    "  -- configuring lsp servers\n",
    "  use(\"neovim/nvim-lspconfig\") -- easily configure language servers\n",
    "  use(\"hrsh7th/cmp-nvim-lsp\") -- for autocompletion\n",
    "  use({\n",
    "    \"glepnir/lspsaga.nvim\",\n",
    "    branch = \"main\",\n",
    "    requires = {\n",
    "      {\"nvim-tree/nvim-web-devicons\"},\n",
    "      {\"nvim-treesitter/nvim-treesitter\"},\n",
    "    },\n",
    "  }) \n",
    "  use(\"nvim-treesitter/playground\") -- :TSPlaygroundToggle in normal mode to access playground\n",
    "\n",
    "  -- enhance lsp uis\n",
    "  use(\"jose-elias-alvarez/typescript.nvim\") -- additional functionality for typescript server (\n",
    "  use(\"onsails/lspkind.nvim\") -- vs-code like icons for autocompletion\n",
    "\n",
    "  -- formatting & linting\n",
    "  use(\"jose-elias-alvarez/null-ls.nvim\") -- configure formatters & linters\n",
    "  use(\"jayp0521/mason-null-ls.nvim\") -- bridges gap b/w mason & null-ls\n",
    "\n",
    "```\n",
    "\n",
    "create the lua file `~/.config/nvim/lua/$USERNAME/plugins/nvim-cmp.lua`\n",
    "\n",
    "use mason lsp server with `:Mason`\n",
    "\n",
    "./ will give you filepath suggestions\n",
    "\n",
    "there is lsp server for each language, lsp server allows us to have autocomplete/lint for a specific language\n",
    "\n",
    "`Ctrl + b` and `Ctrl + f` to step into documentation\n",
    "`Ctrl + o` and `Ctrl + i` to step back and forth \n",
    "\n",
    "`Space + c + a` if there is a hint and you wnat to see recommendations \n",
    "\n",
    "`Space + r + n`  to rename\n",
    "`Space + r + f`  to rename file"
   ]
  },
  {
   "cell_type": "code",
   "execution_count": 40,
   "id": "1e30cae8-11e0-4e30-9c4a-3d069fefca35",
   "metadata": {
    "tags": []
   },
   "outputs": [],
   "source": [
    "%%bash\n",
    "touch ~/.config/nvim/lua/$USERNAME/plugins/nvim-cmp.lua"
   ]
  },
  {
   "cell_type": "code",
   "execution_count": null,
   "id": "97097307-2c35-4d00-b309-741f4b8dd3c7",
   "metadata": {},
   "outputs": [],
   "source": [
    "# nvim-cmp.lua\n",
    "-- import nvim-cmp plugin safely\n",
    "local cmp_status, cmp = pcall(require, \"cmp\")\n",
    "if not cmp_status then\n",
    "  return\n",
    "end\n",
    "\n",
    "-- import luasnip plugin safely\n",
    "local luasnip_status, luasnip = pcall(require, \"luasnip\")\n",
    "if not luasnip_status then\n",
    "  return\n",
    "end\n",
    "\n",
    "-- import lspkind plugin safely\n",
    "local lspkind_status, lspkind = pcall(require, \"lspkind\")\n",
    "if not lspkind_status then\n",
    "  return\n",
    "end\n",
    "\n",
    "-- load vs-code like snippets from plugins (e.g. friendly snippets)\n",
    "require(\"luasnip/loaders/from_vscode\").lazy_load() \n",
    "\n",
    "vim.opt.completeopt = \"menu,menuone,noselect\"\n",
    "\n",
    "cmp.setup({\n",
    "  snippet = {\n",
    "    expand = function(args)\n",
    "      luasnip.lsp_expand(args.body)\n",
    "    end,\n",
    "  },\n",
    "  mapping = cmp.mapping.preset.insert({\n",
    "    [\"<C-p>\"] = cmp.mapping.select_prev_item(), -- Ctrl + p for previous suggestion\n",
    "    [\"<C-n>\"] = cmp.mapping.select_next_item(), -- Ctrl + n for next suggesion\n",
    "    [\"<C-b>\"] = cmp.mapping.scroll_docs(-4),\n",
    "    [\"<C-f>\"] = cmp.mapping.scroll_docs(4),\n",
    "    [\"<C-Space>\"] = cmp.mapping.complete, -- show completion suggestions\n",
    "    [\"<C-e>\"] = cmp.mapping.abort(), -- close completion window\n",
    "    [\"<CR>\"] = cmp.mapping.confirm({select = false}),\n",
    "  }), \n",
    "  -- sources for autocompletion\n",
    "  sources = cmp.config.sources({\n",
    "    {name = \"nvim_lsp\"}, -- lsp\n",
    "    {name = \"luasnip\"}, -- snippets\n",
    "    {name = \"buffer\"}, -- text within current buffer\n",
    "    {name = \"path\"}, -- file system paths\n",
    "  }),\n",
    "  -- configure lspkind for vs-code like icons\n",
    "  formatting = {\n",
    "    format = lspkind.cmp_format({\n",
    "      maxwidth = 50,\n",
    "      ellipsis_char = \"...\",\n",
    "    })\n",
    "  }\n",
    "})"
   ]
  },
  {
   "cell_type": "markdown",
   "id": "221434c1-7a47-4e88-98cd-52cfc6e44b60",
   "metadata": {},
   "source": [
    "### LSP\n",
    "\"cscope\" is something similar to LSP that only supports c. LSP is a natural successor of \"cscope\" the difference is that LSP is language agnostic.\n",
    "\n",
    "What LSP provides:\n",
    "1. Auto Completion: LSP can provide context-aware suggestions as you type in your ocde editor.\n",
    "1. Go to Definition: If you click on a funciton or variable, LSP can take you to where it's defined.\n",
    "1. Find All References: LSP can find and display all usages of afunciton or variable.\n",
    "1. Error Notifications and Warnings: As you type, LSP can identify syntax errors or warnings and underline them in your editor\n",
    "1. Code Refactoring: LSP can assist with naming and re-organizing your code while keeping the refeerences intact.\n",
    "1. Hover: Hovering over a symbol can show a description or a summary from the documentation.\n",
    "\n",
    "LSP serves as the middleman that allows code editors and IDE (VIM, VSCode, IntelliJ tec.) provide intelligent language features for development.\n",
    "\n",
    "LSP is to standardize the protocol for how servers and development tools ommunicate.\n",
    "\n",
    "creates files for lsp\n",
    "\n",
    "### Nvim Cmp\n",
    "Fully support LSP's Completion capability\n",
    "- Snippets\n",
    "- Commitharacters\n",
    "- TriggerCharacters\n",
    "- TextEdit and InsertReplaceTextEdit\n",
    "- AdditionalTextEdits\n",
    "- Markdown documentation\n",
    "- Execute commands (SomeLSP servers needs to auto-import. eg. sumneko_lua or purescript)\n",
    "- Preselect\n",
    "- CompletionItemTags\n",
    "\n",
    "\n",
    "### Lsp Saga\n",
    "Code display window in normal mode"
   ]
  },
  {
   "cell_type": "code",
   "execution_count": 42,
   "id": "840a8032-9173-4abd-9bb5-7ea0c70bccce",
   "metadata": {},
   "outputs": [],
   "source": [
    "%%bash\n",
    "mkdir ~/.config/nvim/lua/$USERNAME/plugins/lsp\n",
    "touch touch ~/.config/nvim/lua/$USERNAME/plugins/lsp/lspconfig.lua\n",
    "touch touch ~/.config/nvim/lua/$USERNAME/plugins/lsp/lspsaga.lua\n",
    "touch touch ~/.config/nvim/lua/$USERNAME/plugins/lsp/mason.lua\n",
    "touch touch ~/.config/nvim/lua/$USERNAME/plugins/lsp/null-ls.lua"
   ]
  },
  {
   "cell_type": "code",
   "execution_count": null,
   "id": "b8fdd7b4-6ec0-4de1-a71c-8c7225b28fd7",
   "metadata": {},
   "outputs": [],
   "source": [
    "# lspconfig.lua\n",
    "-- import lspconfig plugin safely\n",
    "local lspconfig_status, lspconfig = pcall(require, \"lspconfig\")\n",
    "if not lspconfig_status then\n",
    "  return\n",
    "end\n",
    "\n",
    "-- import cmp-nvim-lsp plugin safely\n",
    "local cmp_nvim_lsp_status, cmp_nvim_lsp = pcall(require, \"cmp_nvim_lsp\")\n",
    "if not cmp_nvim_lsp_status then\n",
    "  return\n",
    "end\n",
    "\n",
    "-- import typescript plugin safely\n",
    "local typescript_setup, typescript = pcall(require, \"typescript\")\n",
    "if not cmp_nvim_lsp_status then\n",
    "  return\n",
    "end\n",
    "\n",
    "local keymap = vim.keymap -- for conciseness\n",
    "\n",
    "-- enable keybinds only for when lsp server available\n",
    "local on_attach = function(client, bufnr)\n",
    "  -- keybind options\n",
    "  local opts = {noremap = true, silent = true, buffer = bufnr}\n",
    "\n",
    "  -- set keybinds\n",
    "  keymap.set(\"n\", \"gf\", \"<cmd>Lspsaga lsp_finder<CR>\", opts) -- show definition, references\n",
    "  keymap.set(\"n\", \"gD\", \"<Cmd>lua vim.lsp.buf.declaration<CR>\", opts) -- go to declaration\n",
    "  keymap.set(\"n\", \"gd\", \"<cmd>Lspsaga peek_definition<CR>\", opts) -- see definition and make edits in window\n",
    "  keymap.set(\"n\", \"gi\", \"<cmd>lua vim.lsp.buf.implementation()<CR>\", opts) -- go to implementation\n",
    "  keymap.set(\"n\", \"<leader>ca\", \"<cmd>Lspsaga code_action<CR>\", opts) -- see available code actions\n",
    "  keymap.set(\"n\", \"<leader>rn\", \"<cmd>Lspsaga rename<CR>\", opts) -- smart rename\n",
    "  keymap.set(\"n\", \"<leader>D\", \"<cmd>Lspsaga show_line_diagnostis<CR>\", opts) -- show diagnostics for line\n",
    "  keymap.set(\"n\", \"<leader>d\", \"<cmd>Lspsaga show_cursor_diagnostics<CR>\", opts) -- show diagnostics for cursor\n",
    "  keymap.set(\"n\", \"[d\", \"<cmd>Lspsaga diagnostic_jump_prev<CR>\", opts) -- jump to previous diagnostic in buffer\n",
    "  keymap.set(\"n\", \"]d\", \"<cmd>Lspsaga diagnostic_jump_next<CR>\", opts) -- jump to next diagnostic in buffer\n",
    "  keymap.set(\"n\", \"K\", \"<cmd>Lspsaga hover_doc<CR>\", opts) -- show documentation for what is under cursor\n",
    "  keymap.set(\"n\", \"<leader>o\", \"<cmd>LSoutlineToggle<CR>\", opts) -- see outline on right hand side\n",
    "\n",
    "  -- typescript specific keymaps (e.g. rename file and update imports)\n",
    "  if client.name == \"tsserver\" then\n",
    "    keymap.set(\"n\", \"<leader>rf\", \":TypescriptRenameFile<CR>\") -- rename file and update imports\n",
    "    keymap.set(\"n\", \"<leader>oi\", \":TypescriptOrganizeImports<CR>\") -- organize imports\n",
    "    keymap.set(\"n\", \"<leader>ru\", \":TypescriptRemoveUnused<CR>\") -- remove unused variables\n",
    "  end\n",
    "end\n",
    "\n",
    "-- used to enable autocompletion (assign to every lsp server config)\n",
    "local capabilities = cmp_nvim_lsp.default_capabilities()\n",
    "\n",
    "-- Change the Diagnostic symbols in the sign column (gutter)\n",
    "local signs = { Error = \"⛔\", Warn = \"⚠ \", Hint = \"✉ \", Info = \"ℹ \" }\n",
    "for type, icon in pairs(signs) do\n",
    "  local h1 = \"DiagnosticSign\" .. type\n",
    "  vim.fn.sign_define(h1, {text = icon, texth1 = h1, numh1 = \"\"})\n",
    "end\n",
    "\n",
    "-- configure html server\n",
    "lspconfig[\"html\"].setup({\n",
    "  capabilities = capabilities,\n",
    "  on_attach = on_attach,\n",
    "})\n",
    "\n",
    "-- configure css server\n",
    "lspconfig[\"cssls\"].setup({\n",
    "  capabilities = capabilities,\n",
    "  on_attach = on_attach,\n",
    "})\n",
    "\n",
    "-- configure tailwindcss server\n",
    "lspconfig[\"tailwindcss\"].setup({\n",
    "  capabilites = capabilities,\n",
    "  on_attach = on_attach,\n",
    "})\n",
    "\n",
    "-- configure emmet language server\n",
    "lspconfig[\"emmet_ls\"].setup({\n",
    "  capabilities = capabilities,\n",
    "  on_attach = on_attach,\n",
    "})\n",
    "\n",
    "-- configure lua server (with special settings)\n",
    "lspconfig[\"lua_ls\"].setup({\n",
    "  capabilities = capabilities,\n",
    "  on_attach = on_attach,\n",
    "  settings = { -- custom settings for lua\n",
    "  Lua = {\n",
    "    diagnostics = {\n",
    "      globals = {\"vim\"}, \n",
    "      },\n",
    "      workspace = {\n",
    "        -- make language server aware of runtime files\n",
    "        library = {\n",
    "          [vim.fn.expand(\"$VIMRUNTIME/lua\")] = true,\n",
    "          [vim.fn.stdpath(\"config\") .. \"/lua\"] = true,\n",
    "        },\n",
    "      },\n",
    "    },\n",
    "  },\n",
    "})\n"
   ]
  },
  {
   "cell_type": "code",
   "execution_count": null,
   "id": "ec745354-6a99-405a-a2cd-82de1b6387e9",
   "metadata": {},
   "outputs": [],
   "source": [
    "# lspsaga.lua\n",
    "-- import lspsaga safely\n",
    "local saga_status, saga = pcall(require, \"lspsaga\")\n",
    "if not saga_status then\n",
    "  return\n",
    "end\n",
    "\n",
    "saga.setup({\n",
    "  -- keybinds for navigation in lspsage window\n",
    "  scroll_preview = {scroll_down = \"<C-j>\", scroll_up = \"<C-k>\"},\n",
    "  -- use ento to open file with definition preview\n",
    "  definition = {\n",
    "    edit = \"<CR>\",\n",
    "  },\n",
    "  ui = {\n",
    "    colors = {\n",
    "      normal_bg = \"#022746\",\n",
    "    },\n",
    "  },\n",
    "})\n"
   ]
  },
  {
   "cell_type": "markdown",
   "id": "8dac8b04-e947-441b-bc52-26a3d95176bf",
   "metadata": {},
   "source": [
    "## Mason\n",
    "Plugin for managing LSP servers\n",
    "\n",
    "### Mason Null Ls\n",
    "is a linter"
   ]
  },
  {
   "cell_type": "code",
   "execution_count": null,
   "id": "3f23e8a7-99b5-4cbb-aed7-d831c722c7fd",
   "metadata": {},
   "outputs": [],
   "source": [
    "# mason.lua\n",
    "-- import mason plugin safely\n",
    "local mason_status, mason = pcall(require, \"mason\")\n",
    "if not mason_status then\n",
    "  return\n",
    "end\n",
    "\n",
    "-- import mason-lspconfig plugin safely\n",
    "local mason_lspconfig_status, mason_lspconfig = pcall(require, \"mason-lspconfig\")\n",
    "if not mason_lspconfig_status then\n",
    "  return \n",
    "end\n",
    "\n",
    "-- import mason-null-ls plugin safely\n",
    "local mason_null_ls_status, mason_null_ls = pcall(require, \"mason-null-ls\")\n",
    "if not mason_null_ls_status then\n",
    "  return \n",
    "end\n",
    "\n",
    "-- enable mason\n",
    "mason.setup()\n",
    "\n",
    "mason_lspconfig.setup({\n",
    "  -- list of servers for mason to install\n",
    "  ensure_installed = {\n",
    "    \"tsserver\",\n",
    "    \"html\",\n",
    "    \"cssls\",\n",
    "    \"tailwindcss\",\n",
    "    \"lua_ls\",\n",
    "    \"emmet_ls\",\n",
    "  },\n",
    "  -- auto-install ocnfigured servers (with lspconfig)\n",
    "  automatic_installation = true, -- not the same to ensure_enstalled\n",
    "})\n",
    "\n",
    "mason_null_ls.setup({\n",
    "  -- list of formattters & linters for mason to install\n",
    "  ensure_installed = {\n",
    "    \"prettier\", -- ts/js formatter\n",
    "    \"stylua\", -- lua formatter\n",
    "    \"eslint_d\", -- ts/js linter\n",
    "  },\n",
    "  -- auto-install configured formatters & linters (with null-ls)\n",
    "  automatic_installation = true,\n",
    "})"
   ]
  },
  {
   "cell_type": "code",
   "execution_count": null,
   "id": "bad34cb3-98ab-48cc-8a13-cd1099d958ed",
   "metadata": {},
   "outputs": [],
   "source": [
    "# null-ls.lua\n",
    "-- import null-ls plugin safely\n",
    "local setup, null_ls = pcall(require, \"null-ls\")\n",
    "if not setup then\n",
    "  return\n",
    "end\n",
    "\n",
    "\n",
    "-- for conciseness\n",
    "local formatting = null_ls.builtins.formatting -- to setup formatters\n",
    "local diagnostics = null_ls.builtins.diagnostics -- to setup linters\n",
    "\n",
    "-- to setup format to save\n",
    "local augroup = vim.api.nvim_create_augroup(\"LspFormatting\", {})\n",
    "\n",
    "-- configure null_ls\n",
    "null_ls.setup({\n",
    "  -- setup formatters & linters\n",
    "  sources = {\n",
    "    -- to disable file types use\n",
    "    -- \"formatting.prettier.with({disable_filetypes = {}})\" (see null-ls docs)\n",
    "    formatting.prettier, -- js/ts formatter\n",
    "    formatting.stylua, -- lua formatter\n",
    "    diagnostics.eslint_d.with({ -- js/ts linter\n",
    "      -- only enable eslint if root has .eslintrc.js \n",
    "      condition = function(utils)\n",
    "        return utils.root_has_file(\".eslintrc.js\") -- change file extension if you use something else\n",
    "      end,\n",
    "    }),\n",
    "  },\n",
    "  -- configure format on save\n",
    "  on_attach = function(current_client, bufnr)\n",
    "    if current_client.supports_method(\"textDocument/formatting\") then\n",
    "      vim.api.nvim_clear_autocmds({group = augroup, buffer = bufnr})\n",
    "      vim.api.nvim_create_autocmd(\"BufWritePre\", {\n",
    "        group = augroup,\n",
    "        buffer = bufnr,\n",
    "        callback = function()\n",
    "          vim.lsp.buf.format({\n",
    "            filter = function(client)\n",
    "              -- only use null-ls for formatting instead of lsp server\n",
    "              return client.name == \"null-ls\"\n",
    "            end,\n",
    "            bufnr = bufnr,\n",
    "          })\n",
    "        end,\n",
    "    })\n",
    "    end \n",
    "  end,\n",
    "})"
   ]
  },
  {
   "cell_type": "markdown",
   "id": "a276dad6-4b48-4781-9c85-f2acbbafef21",
   "metadata": {},
   "source": [
    "import the these plugins in `init.lua`\n",
    "\n",
    "```\n",
    "require(string.format(\"%s.plugins.nvim-cmp\", username))\n",
    "require(string.format(\"%s.plugins.lsp.mason\", username))\n",
    "require(string.format(\"%s.plugins.lsp.lspsaga\", username))\n",
    "require(string.format(\"%s.plugins.lsp.lspconfig\", username))\n",
    "require(string.format(\"%s.plugins.lsp.null-ls\", username))\n",
    "```"
   ]
  },
  {
   "cell_type": "markdown",
   "id": "65ba62e4-8493-40e7-8d23-bfe97b6000b5",
   "metadata": {},
   "source": [
    "## Treesitter highlighting and autoclosing\n",
    "Treesitter parses text files and turn them to syntax trees so your language server can give better understanding of your code. It can do syntax highlighting.\n",
    "\n",
    "add this to plugins-setup.lua\n",
    "\n",
    "```\n",
    "  -- treesitter configuration\n",
    "  use({\n",
    "    \"nvim-treesitter/nvim-treesitter\",\n",
    "    run = function ()\n",
    "      local ts_update = require(\"nvim-treesitter.install\").update({with_sync = true})\n",
    "      ts_update()\n",
    "    end,\n",
    "  })\n",
    "\n",
    "  -- auto closing\n",
    "  use(\"windwp/nvim-autopairs\") -- autoclose params, brackets, quotes, etc...\n",
    "  use({\"windwp/nvim-ts-autotag\", after = \"nvim-treesitter\"}) -- autoclose tags\n",
    "\n",
    "  -- git integration\n",
    "  use(\"lewis6991/gitsigns.nvim\") -- show line modifications on left hand side\n",
    "```"
   ]
  },
  {
   "cell_type": "markdown",
   "id": "575a69c0-1d3b-4bb5-a53f-46d48ef815c6",
   "metadata": {
    "tags": []
   },
   "source": [
    "create the following files"
   ]
  },
  {
   "cell_type": "code",
   "execution_count": 44,
   "id": "dc075c4b-6091-41d9-ba8b-9fb16abbd88b",
   "metadata": {},
   "outputs": [],
   "source": [
    "%%bash\n",
    "touch touch ~/.config/nvim/lua/$USERNAME/plugins/autopairs.lua\n",
    "touch touch ~/.config/nvim/lua/$USERNAME/plugins/gitsigns.lua\n",
    "touch touch ~/.config/nvim/lua/$USERNAME/plugins/treesitter.lua"
   ]
  },
  {
   "cell_type": "code",
   "execution_count": null,
   "id": "a94e0ab8-e4b9-4c45-b6bc-543fba963436",
   "metadata": {},
   "outputs": [],
   "source": [
    "# autopairs.lua\n",
    "-- import nvim-autopairs safely\n",
    "local autopairs_setup, autopairs = pcall(require, \"nvim-autopairs\")\n",
    "if not autopairs_setup then\n",
    "  return\n",
    "end\n",
    "\n",
    "-- configure autopairs\n",
    "autopairs.setup({\n",
    "  check_ts = true, -- enable treesitter\n",
    "  ts_config = {\n",
    "    lua ={\"string\"}, -- don't add pairs in javascript template_string treesitter nodes\n",
    "    javascript = {\"template_string\"}, -- don't add pairs in javascript template_string treesitter nodes\n",
    "    java = false, -- don't check treesitter on java\n",
    "  }\n",
    "})\n",
    "\n",
    "-- import nvim-autopairs completion functionality safely\n",
    "local cmp_autopairs_setup, cmp_autopairs = pcall(require, \"nvim-autopairs.completion.cmp\")\n",
    "if not cmp_autopairs_setup then\n",
    "  return\n",
    "end\n",
    "\n",
    "-- import nvim-cmp plugin safely (completion plugin)\n",
    "local cmp_setup, cmp = pcall(require, \"cmp\")\n",
    "if not cmp_setup then\n",
    "  return\n",
    "end\n",
    "\n",
    "-- make autopairs and completion work together\n",
    "cmp.event:on(\"confirm_done\", cmp_autopairs.on_confirm_done())"
   ]
  },
  {
   "cell_type": "code",
   "execution_count": null,
   "id": "1be8b630-e9a6-4a04-9d42-fb0318b1e4a8",
   "metadata": {},
   "outputs": [],
   "source": [
    "# gitsigns.lua\n",
    "-- import gitsigns plugin safely\n",
    "local setup, gitsigns = pcall(require, \"gitsigns\")\n",
    "if not setup then\n",
    "  return\n",
    "end\n",
    "\n",
    "-- configure/enable gitsigns\n",
    "gitsigns.setup()"
   ]
  },
  {
   "cell_type": "code",
   "execution_count": null,
   "id": "c8036de3-9568-4bb8-af8a-f37bf85cd964",
   "metadata": {},
   "outputs": [],
   "source": [
    "# treesitter.lua\n",
    "-- import nvim-treesitter plugin safely\n",
    "local status, treesitter = pcall(require, \"nvim-treesitter.configs\")\n",
    "if not status then\n",
    "  return\n",
    "end\n",
    "\n",
    "-- configure treesitter\n",
    "treesitter.setup({\n",
    " -- enable syntax highlighting\n",
    " highlight = {\n",
    "  enable = true,\n",
    " },\n",
    " -- enable indentation\n",
    " indent = {enable = true},\n",
    " -- enable autotagging (w/ nvim-ts-autotag plugin)\n",
    " autotag = {enable = true},\n",
    " -- ensure these language parsers are installed\n",
    " ensure_installed = {\n",
    "  \"json\",\n",
    "  \"javascript\",\n",
    "  \"typescript\",\n",
    "  \"tsx\",\n",
    "  \"yaml\",\n",
    "  \"html\",\n",
    "  \"css\",\n",
    "  \"markdown\",\n",
    "  \"markdown_inline\",\n",
    "  \"svelte\",\n",
    "  \"graphql\",\n",
    "  \"bash\",\n",
    "  \"lua\",\n",
    "  \"vim\",\n",
    "  \"dockerfile\",\n",
    "  \"gitignore\",\n",
    "  \"jq\",\n",
    "  \"java\",\n",
    " },\n",
    " -- auto install above language parsers\n",
    " auto_install = true,\n",
    "})"
   ]
  },
  {
   "cell_type": "markdown",
   "id": "fa02bf87-24cf-4c57-adbc-1b80728f83bf",
   "metadata": {},
   "source": [
    "import the these plugins in `init.lua`\n",
    "```\n",
    "require(string.format(\"%s.plugins.autopairs\", username))\n",
    "require(string.format(\"%s.plugins.treesitter\", username))\n",
    "require(string.format(\"%s.plugins.gitsigns\", username))\n",
    "```"
   ]
  },
  {
   "cell_type": "markdown",
   "id": "8518f5b9-bc3a-402e-a203-dd842b456176",
   "metadata": {},
   "source": [
    "## Multipline\n",
    "\n",
    "add this to plugins-setup.lua\n",
    "\n",
    "```\n",
    "  use(\"mg979/vim-visual-multi\")\n",
    "```"
   ]
  },
  {
   "cell_type": "markdown",
   "id": "31a3d52b-9c0e-4eff-aed5-e0a2eb740cc5",
   "metadata": {
    "tags": []
   },
   "source": [
    "create the following files"
   ]
  },
  {
   "cell_type": "code",
   "execution_count": 45,
   "id": "c821184e-5198-4d17-9004-e03c533b984a",
   "metadata": {},
   "outputs": [],
   "source": [
    "%%bash\n",
    "touch touch ~/.config/nvim/lua/$USERNAME/plugins/vim-visual-multi.lua"
   ]
  },
  {
   "cell_type": "code",
   "execution_count": null,
   "id": "92faddc7-abc8-49e0-b237-126f71205cad",
   "metadata": {},
   "outputs": [],
   "source": [
    "# nvim-visual-multi.lua\n",
    "-- import nvim-visual-multi plugin safely\n",
    "local vim_multi_status, vim_multi = pcall(require, \"vim-visual-multi\")\n",
    "if not vim_multi_status then\n",
    "  return\n",
    "end\n",
    "\n",
    "vim_multi.setup()"
   ]
  },
  {
   "cell_type": "markdown",
   "id": "8c061316-9f63-49b0-8309-3c1bbbe78126",
   "metadata": {},
   "source": [
    "import the these plugins in init.lua\n",
    "```\n",
    "require(string.format(\"%s.plugins.nvim-visual-multi\", username))\n",
    "```"
   ]
  },
  {
   "cell_type": "markdown",
   "id": "b91998cb-6ff3-40c0-be7a-05be58db6f55",
   "metadata": {},
   "source": [
    "# Copilot\n",
    "set up copilot on github https://github.com/settings/copilot\n",
    "\n",
    "install node version at least v17.9.1\n",
    "\n",
    "add this to plugins-setup.lua\n",
    "\n",
    "```\n",
    "  -- github copilot\n",
    "  use(\"github/copilot.vim\")\n",
    "```\n",
    "\n",
    "then in normal mode run `:Copilot setup`"
   ]
  },
  {
   "cell_type": "markdown",
   "id": "11923a8d-fad5-46fb-be24-aad541183342",
   "metadata": {},
   "source": [
    "# Todos\n",
    "add the following plugins\n",
    "- harpoon: file clipboard\n",
    "- vim-fugative: git plugin\n",
    "- ctag: code navigation\n",
    "- vim multi ursor: https://github.com/terryma/vim-multiple-cursors"
   ]
  },
  {
   "cell_type": "markdown",
   "id": "31621a53-54cd-460a-a36a-61da78577a91",
   "metadata": {},
   "source": [
    "# Java Integration\n"
   ]
  },
  {
   "cell_type": "code",
   "execution_count": null,
   "id": "1d0c389f-5565-44c3-80fe-e1eab9d37187",
   "metadata": {},
   "outputs": [],
   "source": [
    "%%bash\n",
    "tree ~/.config/nvim"
   ]
  },
  {
   "cell_type": "code",
   "execution_count": null,
   "id": "160bf68f-113c-4b79-8999-743da1d428aa",
   "metadata": {},
   "outputs": [],
   "source": []
  },
  {
   "cell_type": "code",
   "execution_count": null,
   "id": "978720b6-0e26-47ff-8332-beab825a667f",
   "metadata": {},
   "outputs": [],
   "source": []
  }
 ],
 "metadata": {
  "kernelspec": {
   "display_name": "Python 3",
   "language": "python",
   "name": "python3"
  },
  "language_info": {
   "codemirror_mode": {
    "name": "ipython",
    "version": 3
   },
   "file_extension": ".py",
   "mimetype": "text/x-python",
   "name": "python",
   "nbconvert_exporter": "python",
   "pygments_lexer": "ipython3",
   "version": "3.6.9"
  }
 },
 "nbformat": 4,
 "nbformat_minor": 5
}
