{
 "cells": [
  {
   "cell_type": "markdown",
   "id": "d98841c9-c476-4774-9115-af8fd810a544",
   "metadata": {},
   "source": [
    "# Terminal Setup\n",
    "\n",
    "Install iTerm2 on mac"
   ]
  },
  {
   "cell_type": "code",
   "execution_count": null,
   "id": "3d644d93-c628-4dd5-a789-d0734898bc88",
   "metadata": {},
   "outputs": [],
   "source": [
    "%%bash\n",
    "brew install item2"
   ]
  },
  {
   "cell_type": "markdown",
   "id": "633909fb-6aa9-41cd-83a0-00d03027913f",
   "metadata": {},
   "source": [
    "Install emulator on ubuntu"
   ]
  },
  {
   "cell_type": "code",
   "execution_count": null,
   "id": "c9670998-9ebc-4a1e-a539-98a3322f0908",
   "metadata": {},
   "outputs": [],
   "source": [
    "%%bash\n",
    "sudo apt-get update\n",
    "sudo apt-get install tilix"
   ]
  },
  {
   "cell_type": "markdown",
   "id": "9ac68262-9fb4-4079-a4cd-b1599ecf9952",
   "metadata": {},
   "source": [
    "install zsh"
   ]
  },
  {
   "cell_type": "code",
   "execution_count": null,
   "id": "5c2631e9-cc6c-4a6f-a602-4d79e67862b3",
   "metadata": {},
   "outputs": [],
   "source": [
    "%%bash\n",
    "// on mac\n",
    "brew install zsh\n",
    "\n",
    "// on ubuntu\n",
    "sudo apt-get install zsh"
   ]
  },
  {
   "cell_type": "markdown",
   "id": "f3843a58-14fe-4df2-bbbe-c37b6f949303",
   "metadata": {},
   "source": [
    "Install Oh My Zsh"
   ]
  },
  {
   "cell_type": "code",
   "execution_count": null,
   "id": "6dd6886c-7cbc-495f-8e47-13bf111f7531",
   "metadata": {},
   "outputs": [],
   "source": [
    "%%bash\n",
    "sh -c \"$(curl -fsSL https://raw.githubusercontent.com/ohmyzsh/ohmyzsh/master/tools/install.sh)\""
   ]
  },
  {
   "cell_type": "markdown",
   "id": "af4672f3-c300-40fb-b2e2-cdf45e0bae5f",
   "metadata": {},
   "source": [
    "install powerlevel 10k"
   ]
  },
  {
   "cell_type": "code",
   "execution_count": null,
   "id": "38097f0f-3844-4ecd-92f0-134baf16065c",
   "metadata": {},
   "outputs": [],
   "source": [
    "%%bash\n",
    "git clone git@github.com:romkatv/powerlevel10k.git $ZSH_CUSTOM/themes/powerlevel10k"
   ]
  },
  {
   "cell_type": "markdown",
   "id": "7ee6d2ec-0f05-4d9f-8f41-f82de04fbc29",
   "metadata": {},
   "source": [
    "edit the `~/.zshrc` file\n",
    "\n",
    "by setting the `ZSH_THEME=\"powerlevel10k/powerlevel10k\"`"
   ]
  },
  {
   "cell_type": "raw",
   "id": "216b476c-252e-4129-8f00-902818fd77b4",
   "metadata": {},
   "source": [
    "# If you come from bash you might have to change your $PATH.\n",
    "# export PATH=$HOME/bin:/usr/local/bin:$PATH\n",
    "\n",
    "# Path to your oh-my-zsh installation.\n",
    "export ZSH=\"$HOME/.oh-my-zsh\"\n",
    "\n",
    "# Set name of the theme to load --- if set to \"random\", it will\n",
    "# load a random theme each time oh-my-zsh is loaded, in which case,\n",
    "# to know which specific one was loaded, run: echo $RANDOM_THEME\n",
    "# See https://github.com/ohmyzsh/ohmyzsh/wiki/Themes\n",
    "ZSH_THEME=\"powerlevel10k/powerlevel10k\"\n"
   ]
  },
  {
   "cell_type": "markdown",
   "id": "2afc3619-9c55-43b0-9fd2-feb0634eb123",
   "metadata": {},
   "source": [
    "then source the zshrc file"
   ]
  },
  {
   "cell_type": "code",
   "execution_count": null,
   "id": "5311901e-d4b1-48c8-bd2c-03b9cf283c23",
   "metadata": {},
   "outputs": [],
   "source": [
    "%%bash\n",
    "source ~/.zshrc"
   ]
  },
  {
   "cell_type": "markdown",
   "id": "faf784c6-b369-4154-8812-d5d29407e104",
   "metadata": {},
   "source": [
    "Plugins"
   ]
  },
  {
   "cell_type": "code",
   "execution_count": null,
   "id": "c4e13aa1-af8f-4f01-bf43-f80006d574f7",
   "metadata": {},
   "outputs": [],
   "source": [
    "%%bash\n",
    "# auto suggestion\n",
    "git clone git@github.com:zsh-users/zsh-autosuggestions.git ${ZSH_CUSTOM:-~/.oh-my-zsh/custom}/plugins/zsh-autosuggestions\n",
    "# syntax highlighting\n",
    "git clone git@github.com:zsh-users/zsh-syntax-highlighting.git ${ZSH_CUSTOM:-~/.oh-my-zsh/custom}/plugins/zsh-syntax-highlighting"
   ]
  },
  {
   "cell_type": "markdown",
   "id": "a8c5ae39-46ac-4916-b6b0-caa2efd067dd",
   "metadata": {},
   "source": [
    "edit the `~/.zshrc` file\n",
    "\n",
    "by adding to the plugin auto suggestion and syntax highlighting and websearch\n",
    "\n",
    "`plugins=(git zsh-autosuggestions zsh-syntax-highlighting web-search)`"
   ]
  },
  {
   "cell_type": "raw",
   "id": "ed1bd8a4-4167-427e-8562-5bf2f228efce",
   "metadata": {},
   "source": [
    "# Which plugins would you like to load?\n",
    "# Standard plugins can be found in $ZSH/plugins/\n",
    "# Custom plugins may be added to $ZSH_CUSTOM/plugins/\n",
    "# Example format: plugins=(rails git textmate ruby lighthouse)\n",
    "# Add wisely, as too many plugins slow down shell startup.\n",
    "plugins=(git zsh-autosuggestions zsh-syntax-highlighting web-search)\n",
    "\n",
    "source $ZSH/oh-my-zsh.sh"
   ]
  },
  {
   "cell_type": "markdown",
   "id": "5d4d849c-ca81-4de2-946c-466b9307e0ad",
   "metadata": {},
   "source": [
    "then source the zshrc file"
   ]
  },
  {
   "cell_type": "code",
   "execution_count": null,
   "id": "b34f2ba7-35b0-4e4c-b43f-8b7c1c5e3a91",
   "metadata": {},
   "outputs": [],
   "source": [
    "%%bash\n",
    "source ~/.zshrc"
   ]
  },
  {
   "cell_type": "markdown",
   "id": "bf9eb734-578d-4a44-9918-4b3aa31b17f5",
   "metadata": {},
   "source": [
    "You can google stuff from the browser with web search\n",
    "eg."
   ]
  },
  {
   "cell_type": "code",
   "execution_count": null,
   "id": "e8342413-0255-4745-bf7f-88349cfc764e",
   "metadata": {},
   "outputs": [],
   "source": [
    "%%bash\n",
    "google neovim"
   ]
  },
  {
   "cell_type": "markdown",
   "id": "31bb9a33-f76c-4fda-99cf-065080cda339",
   "metadata": {},
   "source": [
    "## Tmux\n",
    "terminal multiplexer\n",
    "\n",
    "installation"
   ]
  },
  {
   "cell_type": "code",
   "execution_count": null,
   "id": "86193471-a820-4fb7-89ea-74f718d0efb1",
   "metadata": {},
   "outputs": [],
   "source": [
    "%%bash\n",
    "# on mac\n",
    "brew install tmux\n",
    "\n",
    "# on ubuntu\n",
    "sudo apt install tmux"
   ]
  },
  {
   "cell_type": "markdown",
   "id": "63b0b8d5-7316-481e-bd33-1294fcfc3720",
   "metadata": {},
   "source": [
    "Create `~/.tmux.conf` file"
   ]
  },
  {
   "cell_type": "code",
   "execution_count": null,
   "id": "1f5a1385-8094-41d9-9c9b-7a8f85031348",
   "metadata": {},
   "outputs": [],
   "source": [
    "touch ~/.tmux.conf"
   ]
  },
  {
   "cell_type": "markdown",
   "id": "522736aa-9e48-4624-bb0f-23835a806f10",
   "metadata": {},
   "source": [
    "Configure True Colors\n",
    "\n",
    "Open `~/.tmux.conf` and add the following:"
   ]
  },
  {
   "cell_type": "raw",
   "id": "cb689cda-133b-4dde-93fa-5b829fe3dcde",
   "metadata": {},
   "source": [
    "set -g default-terminal \"screen-256color\""
   ]
  },
  {
   "cell_type": "markdown",
   "id": "e7d86ce0-d0c1-4ae0-864f-13e563fe1061",
   "metadata": {},
   "source": [
    "Change Default TMUX Prefix to \"Ctrl-a\"\n",
    "\n",
    "Add the following to `~/.tmux.conf`:"
   ]
  },
  {
   "cell_type": "raw",
   "id": "77572867-0aa2-4e26-83fb-aa742c933fdb",
   "metadata": {},
   "source": [
    "set -g prefix C-a\n",
    "unbind C-b\n",
    "bind-key C-a send-prefix"
   ]
  },
  {
   "cell_type": "markdown",
   "id": "f051635a-ca81-4d15-a2f5-71234f95076b",
   "metadata": {},
   "source": [
    "Change keybinds for splitting windows\n",
    "\n",
    "Add this to `~/.tmux.conf`:"
   ]
  },
  {
   "cell_type": "raw",
   "id": "dd2a6af7-9d5f-486e-bc98-b09861ff9847",
   "metadata": {},
   "source": [
    "unbind %\n",
    "bind | split-window -h\n",
    "\n",
    "unbind '\"'\n",
    "bind - split-window -v"
   ]
  },
  {
   "cell_type": "markdown",
   "id": "803ac500-82ea-48f7-ad0d-13fc452ce230",
   "metadata": {},
   "source": [
    "Add keybind for easily refreshing tmux configuration\n",
    "\n",
    "Add this to `~/.tmux.conf` to be able to refresh tmux config with \"Ctrl-a\" and then \"r\":"
   ]
  },
  {
   "cell_type": "raw",
   "id": "ff468b1b-03e7-4791-9f7b-4b270ba3d02d",
   "metadata": {},
   "source": [
    "unbind r\n",
    "bind r source-file ~/.tmux.conf"
   ]
  },
  {
   "cell_type": "markdown",
   "id": "c05aaa66-1c2e-4773-ab59-ee67ea4640f2",
   "metadata": {},
   "source": [
    "Add keybinds for easily resizing tmux panes\n",
    "\n",
    "Add these to `~/.tmux.conf`:"
   ]
  },
  {
   "cell_type": "raw",
   "id": "3e6e36ce-4969-41d8-8b07-aa90a9274e65",
   "metadata": {},
   "source": [
    "bind -r j resize-pane -D 5\n",
    "bind -r k resize-pane -U 5\n",
    "bind -r l resize-pane -R 5\n",
    "bind -r h resize-pane -L 5"
   ]
  },
  {
   "cell_type": "markdown",
   "id": "0e8b6301-7e13-4f97-a1d3-ff0cabfbcfac",
   "metadata": {},
   "source": [
    "Add keybind for maximizing and minimizing tmux pane\n",
    "\n",
    "Add the following to `~/.tmux.conf`:"
   ]
  },
  {
   "cell_type": "raw",
   "id": "b4cd489d-79a3-410f-9031-7d25d8d26459",
   "metadata": {},
   "source": [
    "bind -r m resize-pane -Z"
   ]
  },
  {
   "cell_type": "code",
   "execution_count": null,
   "id": "b2a2dd9c-527a-4bfb-854f-a5a71e76f75f",
   "metadata": {},
   "outputs": [],
   "source": []
  },
  {
   "cell_type": "code",
   "execution_count": null,
   "id": "40d399a2-5c37-4a53-bf38-2d59cd3e4adf",
   "metadata": {},
   "outputs": [],
   "source": []
  },
  {
   "cell_type": "markdown",
   "id": "772bd9f6-e672-433d-9a3f-ded6206050b3",
   "metadata": {
    "tags": []
   },
   "source": [
    "# Install Neo Vim\n",
    "\n",
    "on mac"
   ]
  },
  {
   "cell_type": "code",
   "execution_count": null,
   "id": "17f3aedf-8f62-4342-b74e-ecdf47e40aad",
   "metadata": {},
   "outputs": [],
   "source": [
    "%%bash\n",
    "brew install neovim"
   ]
  },
  {
   "cell_type": "markdown",
   "id": "54364d3b-4ba9-40b6-9f8f-9b504cd50273",
   "metadata": {},
   "source": [
    "on ubuntu"
   ]
  },
  {
   "cell_type": "code",
   "execution_count": null,
   "id": "56c5a1c8-6b58-4043-b001-ddb93e9b86f4",
   "metadata": {},
   "outputs": [],
   "source": [
    "%%bash\n",
    "sudo apt update\n",
    "sudo apt install neovim"
   ]
  },
  {
   "cell_type": "code",
   "execution_count": null,
   "id": "1d0c389f-5565-44c3-80fe-e1eab9d37187",
   "metadata": {},
   "outputs": [],
   "source": []
  }
 ],
 "metadata": {
  "kernelspec": {
   "display_name": "Lua",
   "language": "lua",
   "name": "lua"
  },
  "language_info": {
   "name": ""
  }
 },
 "nbformat": 4,
 "nbformat_minor": 5
}
